{
  "nbformat": 4,
  "nbformat_minor": 0,
  "metadata": {
    "colab": {
      "provenance": [],
      "mount_file_id": "1lLlX7jMIdNXwOTwRBZ8TCW6QBTe9BUh1",
      "authorship_tag": "ABX9TyP0rnMB/K+PDKtiuY5YGpfj",
      "include_colab_link": true
    },
    "kernelspec": {
      "name": "python3",
      "display_name": "Python 3"
    },
    "language_info": {
      "name": "python"
    }
  },
  "cells": [
    {
      "cell_type": "markdown",
      "metadata": {
        "id": "view-in-github",
        "colab_type": "text"
      },
      "source": [
        "<a href=\"https://colab.research.google.com/github/AllanRodrigo/Data_Science_Alura/blob/main/Notebooks/Semana_2.ipynb\" target=\"_parent\"><img src=\"https://colab.research.google.com/assets/colab-badge.svg\" alt=\"Open In Colab\"/></a>"
      ]
    },
    {
      "cell_type": "markdown",
      "source": [
        "## **Preparando o Ambiente**"
      ],
      "metadata": {
        "id": "2QmHjPfQ4s7d"
      }
    },
    {
      "cell_type": "code",
      "execution_count": 1,
      "metadata": {
        "colab": {
          "base_uri": "https://localhost:8080/"
        },
        "id": "08Tk46bC4nsI",
        "outputId": "84298cbd-a5e3-401a-9698-ce97443f9852"
      },
      "outputs": [
        {
          "output_type": "stream",
          "name": "stdout",
          "text": [
            "Looking in indexes: https://pypi.org/simple, https://us-python.pkg.dev/colab-wheels/public/simple/\n",
            "Collecting pyspark\n",
            "  Downloading pyspark-3.3.1.tar.gz (281.4 MB)\n",
            "\u001b[2K     \u001b[90m━━━━━━━━━━━━━━━━━━━━━━━━━━━━━━━━━━━━━━━\u001b[0m \u001b[32m281.4/281.4 MB\u001b[0m \u001b[31m5.1 MB/s\u001b[0m eta \u001b[36m0:00:00\u001b[0m\n",
            "\u001b[?25h  Preparing metadata (setup.py) ... \u001b[?25l\u001b[?25hdone\n",
            "Collecting py4j==0.10.9.5\n",
            "  Downloading py4j-0.10.9.5-py2.py3-none-any.whl (199 kB)\n",
            "\u001b[2K     \u001b[90m━━━━━━━━━━━━━━━━━━━━━━━━━━━━━━━━━━━━━━━\u001b[0m \u001b[32m199.7/199.7 KB\u001b[0m \u001b[31m9.5 MB/s\u001b[0m eta \u001b[36m0:00:00\u001b[0m\n",
            "\u001b[?25hBuilding wheels for collected packages: pyspark\n",
            "  Building wheel for pyspark (setup.py) ... \u001b[?25l\u001b[?25hdone\n",
            "  Created wheel for pyspark: filename=pyspark-3.3.1-py2.py3-none-any.whl size=281845512 sha256=fac5d6f56f077d3ad990988d27e2a6e18c74e181bef4c7173166a46c83a81806\n",
            "  Stored in directory: /root/.cache/pip/wheels/43/dc/11/ec201cd671da62fa9c5cc77078235e40722170ceba231d7598\n",
            "Successfully built pyspark\n",
            "Installing collected packages: py4j, pyspark\n",
            "Successfully installed py4j-0.10.9.5 pyspark-3.3.1\n"
          ]
        }
      ],
      "source": [
        "!pip install pyspark"
      ]
    },
    {
      "cell_type": "code",
      "source": [
        "from pyspark.sql import SparkSession\n",
        "\n",
        "spark = SparkSession.builder \\\n",
        "    .master('local[*]') \\\n",
        "    .appName(\"Regressão com Spark\") \\\n",
        "    .getOrCreate()\n",
        "\n",
        "spark"
      ],
      "metadata": {
        "colab": {
          "base_uri": "https://localhost:8080/",
          "height": 219
        },
        "id": "tz38F4ju40AR",
        "outputId": "e77edaf0-302e-4f85-fbe8-bea0b5c48275"
      },
      "execution_count": 2,
      "outputs": [
        {
          "output_type": "execute_result",
          "data": {
            "text/plain": [
              "<pyspark.sql.session.SparkSession at 0x7f4d04391730>"
            ],
            "text/html": [
              "\n",
              "            <div>\n",
              "                <p><b>SparkSession - in-memory</b></p>\n",
              "                \n",
              "        <div>\n",
              "            <p><b>SparkContext</b></p>\n",
              "\n",
              "            <p><a href=\"http://b8305ad6360a:4040\">Spark UI</a></p>\n",
              "\n",
              "            <dl>\n",
              "              <dt>Version</dt>\n",
              "                <dd><code>v3.3.1</code></dd>\n",
              "              <dt>Master</dt>\n",
              "                <dd><code>local[*]</code></dd>\n",
              "              <dt>AppName</dt>\n",
              "                <dd><code>Regressão com Spark</code></dd>\n",
              "            </dl>\n",
              "        </div>\n",
              "        \n",
              "            </div>\n",
              "        "
            ]
          },
          "metadata": {},
          "execution_count": 2
        }
      ]
    },
    {
      "cell_type": "markdown",
      "source": [
        "## **Preços de Imóveis - Transformados**"
      ],
      "metadata": {
        "id": "al71RJoU6ICf"
      }
    },
    {
      "cell_type": "code",
      "source": [
        "from google.colab import drive\n",
        "drive.mount('/content/drive')"
      ],
      "metadata": {
        "colab": {
          "base_uri": "https://localhost:8080/"
        },
        "id": "9kHStmob48TK",
        "outputId": "c47a3c2a-25ea-45ed-807e-1f927ded1340"
      },
      "execution_count": 3,
      "outputs": [
        {
          "output_type": "stream",
          "name": "stdout",
          "text": [
            "Mounted at /content/drive\n"
          ]
        }
      ]
    },
    {
      "cell_type": "code",
      "source": [
        "import zipfile\n",
        "\n",
        "zipfile.ZipFile('/content/drive/MyDrive/curso-spark/semana-2.zip', 'r').extractall('/content/drive/MyDrive/curso-spark/semana_2')"
      ],
      "metadata": {
        "id": "zfL3UJ1I5jGE"
      },
      "execution_count": 4,
      "outputs": []
    },
    {
      "cell_type": "code",
      "source": [
        "path = '/content/drive/MyDrive/curso-spark/semana_2/dataset_transformado_parquet'\n",
        "dados = spark.read.parquet(path)"
      ],
      "metadata": {
        "id": "4N1z8_Yc5s_m"
      },
      "execution_count": 5,
      "outputs": []
    },
    {
      "cell_type": "code",
      "source": [
        "dados.show(10)"
      ],
      "metadata": {
        "colab": {
          "base_uri": "https://localhost:8080/"
        },
        "id": "IPoFAP306Yok",
        "outputId": "cdfe7ee3-beae-4da5-a270-b2bdf43444cd"
      },
      "execution_count": 6,
      "outputs": [
        {
          "output_type": "stream",
          "name": "stdout",
          "text": [
            "+--------------------+-----+----------+---------+---------+--------------------+-------+------+------------+------------+-----------+----+--------------------+------------+----------+----+-----+------+\n",
            "|                  id|andar|area_total|area_util|banheiros|     caracteristicas|quartos|suites|tipo_anuncio|tipo_unidade|   tipo_uso|vaga|              bairro|        zona|condominio|iptu| tipo| valor|\n",
            "+--------------------+-----+----------+---------+---------+--------------------+-------+------+------------+------------+-----------+----+--------------------+------------+----------+----+-----+------+\n",
            "|03a386b6-7ab8-4ef...|    0|        43|       43|        1|[Churrasqueira, A...|      2|  null|       Usado| Apartamento|Residencial|   1|            Realengo|  Zona Oeste|       285|null|Venda| 22999|\n",
            "|1fe78d41-b8e0-4d2...|    0|        44|       44|        1|                  []|      2|     0|       Usado| Apartamento|Residencial|   0|               Irajá|  Zona Norte|       170|   0|Venda|110000|\n",
            "|1fa1c1e5-e98c-433...|    4|      null|       55|        1|                  []|      2|     0|       Usado| Apartamento|Residencial|   1|              Cosmos|  Zona Oeste|      null|null|Venda|115000|\n",
            "|a6ab01ae-3d40-40e...|    2|      null|       55|        1|                  []|      2|     0|       Usado| Apartamento|Residencial|   0|        Tomás Coelho|  Zona Norte|      null|null|Venda|115000|\n",
            "|1d8ff7a2-16bd-4e3...|    0|      null|       50|        1|                  []|      1|  null|       Usado| Apartamento|Residencial|   0|              Centro|Zona Central|      1300|2679|Venda|125000|\n",
            "|40a2cbde-946b-42d...|    2|        47|       47|        1|[Condomínio fecha...|      2|     0|       Usado| Apartamento|Residencial|   1|        Campo Grande|  Zona Oeste|       380|null|Venda|138000|\n",
            "|be269ddf-a4a3-4a7...|    0|     17089|       45|        1|[Churrasqueira, C...|      2|     0|       Usado| Apartamento|Residencial|   1|        Campo Grande|  Zona Oeste|       356|   0|Venda|140000|\n",
            "|4b7e3d59-34fd-4ba...|    3|        48|       48|        1|[Churrasqueira, P...|      2|  null|       Usado| Apartamento|Residencial|   1|        Campo Grande|  Zona Oeste|         0|   0|Venda|150000|\n",
            "|a1a0c2ac-4fa8-4b0...|    9|      null|       55|        1|[Churrasqueira, E...|      2|  null|       Usado| Apartamento|Residencial|   1|Freguesia (Jacare...|  Zona Oeste|       780| 660|Venda|160000|\n",
            "|390d2b88-e06d-47e...|    0|        70|       70|        2|   [Salão de festas]|      2|     0|       Usado| Apartamento|Residencial|   1|          Praça Seca|  Zona Oeste|    420000|null|Venda|159000|\n",
            "+--------------------+-----+----------+---------+---------+--------------------+-------+------+------------+------------+-----------+----+--------------------+------------+----------+----+-----+------+\n",
            "only showing top 10 rows\n",
            "\n"
          ]
        }
      ]
    },
    {
      "cell_type": "markdown",
      "source": [
        "## **Seleção de features**"
      ],
      "metadata": {
        "id": "zVGnJrv76VJU"
      }
    },
    {
      "cell_type": "code",
      "source": [
        "dados.printSchema()"
      ],
      "metadata": {
        "colab": {
          "base_uri": "https://localhost:8080/"
        },
        "id": "6rTUP4Yb6W4x",
        "outputId": "4ad9d67f-5f99-413f-97ff-18f160b6ea92"
      },
      "execution_count": 7,
      "outputs": [
        {
          "output_type": "stream",
          "name": "stdout",
          "text": [
            "root\n",
            " |-- id: string (nullable = true)\n",
            " |-- andar: long (nullable = true)\n",
            " |-- area_total: string (nullable = true)\n",
            " |-- area_util: string (nullable = true)\n",
            " |-- banheiros: long (nullable = true)\n",
            " |-- caracteristicas: array (nullable = true)\n",
            " |    |-- element: string (containsNull = true)\n",
            " |-- quartos: long (nullable = true)\n",
            " |-- suites: long (nullable = true)\n",
            " |-- tipo_anuncio: string (nullable = true)\n",
            " |-- tipo_unidade: string (nullable = true)\n",
            " |-- tipo_uso: string (nullable = true)\n",
            " |-- vaga: long (nullable = true)\n",
            " |-- bairro: string (nullable = true)\n",
            " |-- zona: string (nullable = true)\n",
            " |-- condominio: string (nullable = true)\n",
            " |-- iptu: string (nullable = true)\n",
            " |-- tipo: string (nullable = true)\n",
            " |-- valor: string (nullable = true)\n",
            "\n"
          ]
        }
      ]
    },
    {
      "cell_type": "code",
      "source": [
        "from pyspark.sql.types import DoubleType, StringType, IntegerType\n",
        "from pyspark.sql import functions as f"
      ],
      "metadata": {
        "id": "DO6oijNk8ZvE"
      },
      "execution_count": 8,
      "outputs": []
    },
    {
      "cell_type": "code",
      "source": [
        "dados\\\n",
        "    .select('tipo_anuncio')\\\n",
        "    .groupBy('tipo_anuncio')\\\n",
        "    .count()\\\n",
        "    .show()"
      ],
      "metadata": {
        "colab": {
          "base_uri": "https://localhost:8080/"
        },
        "id": "l67U-1LV7RGl",
        "outputId": "fa51ea73-2d08-485b-c3aa-2fb25f444052"
      },
      "execution_count": 9,
      "outputs": [
        {
          "output_type": "stream",
          "name": "stdout",
          "text": [
            "+------------+-----+\n",
            "|tipo_anuncio|count|\n",
            "+------------+-----+\n",
            "|       Usado|66562|\n",
            "+------------+-----+\n",
            "\n"
          ]
        }
      ]
    },
    {
      "cell_type": "code",
      "source": [
        "dados\\\n",
        "    .select('tipo_unidade')\\\n",
        "    .groupBy('tipo_unidade')\\\n",
        "    .count()\\\n",
        "    .show()"
      ],
      "metadata": {
        "colab": {
          "base_uri": "https://localhost:8080/"
        },
        "id": "gnCmyaC48iDm",
        "outputId": "8c06542f-7f70-4f63-9f83-231c3caf16c8"
      },
      "execution_count": 10,
      "outputs": [
        {
          "output_type": "stream",
          "name": "stdout",
          "text": [
            "+------------+-----+\n",
            "|tipo_unidade|count|\n",
            "+------------+-----+\n",
            "| Apartamento|66562|\n",
            "+------------+-----+\n",
            "\n"
          ]
        }
      ]
    },
    {
      "cell_type": "code",
      "source": [
        "dados\\\n",
        "    .select('tipo_uso')\\\n",
        "    .groupBy('tipo_uso')\\\n",
        "    .count()\\\n",
        "    .show()"
      ],
      "metadata": {
        "colab": {
          "base_uri": "https://localhost:8080/"
        },
        "id": "t_mkGWGi8yHY",
        "outputId": "3b798f0f-1164-4fb1-8962-5de6cd7071da"
      },
      "execution_count": 11,
      "outputs": [
        {
          "output_type": "stream",
          "name": "stdout",
          "text": [
            "+-----------+-----+\n",
            "|   tipo_uso|count|\n",
            "+-----------+-----+\n",
            "|Residencial|66562|\n",
            "+-----------+-----+\n",
            "\n"
          ]
        }
      ]
    },
    {
      "cell_type": "code",
      "source": [
        "dados\\\n",
        "    .select('tipo')\\\n",
        "    .groupBy('tipo')\\\n",
        "    .count()\\\n",
        "    .show()"
      ],
      "metadata": {
        "colab": {
          "base_uri": "https://localhost:8080/"
        },
        "id": "D6zKE0tr80-Y",
        "outputId": "5858f1cd-5d32-4f1b-9223-0337a1d207af"
      },
      "execution_count": 12,
      "outputs": [
        {
          "output_type": "stream",
          "name": "stdout",
          "text": [
            "+-----+-----+\n",
            "| tipo|count|\n",
            "+-----+-----+\n",
            "|Venda|66562|\n",
            "+-----+-----+\n",
            "\n"
          ]
        }
      ]
    },
    {
      "cell_type": "code",
      "source": [
        "dados = dados.select(\"id\", \"andar\", \"area_util\", \"banheiros\", \"caracteristicas\", \"quartos\", \\\n",
        "             \"suites\", \"vaga\", \"bairro\", \"zona\", \"condominio\", \"iptu\", \"valor\")"
      ],
      "metadata": {
        "id": "Hg2yVQW19-4F"
      },
      "execution_count": 13,
      "outputs": []
    },
    {
      "cell_type": "markdown",
      "source": [
        "## **Converter os tipos das colunas**"
      ],
      "metadata": {
        "id": "LX5oN-MiAVGp"
      }
    },
    {
      "cell_type": "code",
      "source": [
        "dados = dados.withColumn('area_util', dados['area_util'].cast(DoubleType()))\\\n",
        "                   .withColumn('condominio', dados['condominio'].cast(DoubleType()))\\\n",
        "                   .withColumn('iptu', dados['iptu'].cast(DoubleType()))\\\n",
        "                   .withColumn('valor', dados['valor'].cast(DoubleType()))\\\n",
        "                   .withColumn('andar', dados['andar'].cast(IntegerType()))\\\n",
        "                   .withColumn('banheiros', dados['banheiros'].cast(IntegerType()))\\\n",
        "                   .withColumn('quartos', dados['quartos'].cast(IntegerType()))\\\n",
        "                   .withColumn('suites', dados['suites'].cast(IntegerType()))\n",
        "\n",
        "dados.printSchema()"
      ],
      "metadata": {
        "colab": {
          "base_uri": "https://localhost:8080/"
        },
        "id": "N9vjvZS0-8Ho",
        "outputId": "4d8713b7-f802-48ef-83bb-938c4aef8293"
      },
      "execution_count": 15,
      "outputs": [
        {
          "output_type": "stream",
          "name": "stdout",
          "text": [
            "root\n",
            " |-- id: string (nullable = true)\n",
            " |-- andar: integer (nullable = true)\n",
            " |-- area_util: double (nullable = true)\n",
            " |-- banheiros: integer (nullable = true)\n",
            " |-- caracteristicas: array (nullable = true)\n",
            " |    |-- element: string (containsNull = true)\n",
            " |-- quartos: integer (nullable = true)\n",
            " |-- suites: integer (nullable = true)\n",
            " |-- vaga: long (nullable = true)\n",
            " |-- bairro: string (nullable = true)\n",
            " |-- zona: string (nullable = true)\n",
            " |-- condominio: double (nullable = true)\n",
            " |-- iptu: double (nullable = true)\n",
            " |-- valor: double (nullable = true)\n",
            "\n"
          ]
        }
      ]
    },
    {
      "cell_type": "markdown",
      "source": [
        "## **Tratamento da coluna caracteristicas**"
      ],
      "metadata": {
        "id": "YNjApMnRB9_1"
      }
    },
    {
      "cell_type": "code",
      "source": [
        "dados = dados.withColumn('caracteristicas', f.when((f.size(f.col('caracteristicas')) == 0), f.lit(None)).otherwise(f.col('caracteristicas')))\n"
      ],
      "metadata": {
        "id": "Lj3b6ZNUBiv7"
      },
      "execution_count": 16,
      "outputs": []
    },
    {
      "cell_type": "markdown",
      "source": [
        "## **Tratar dados nulos e NaN's**"
      ],
      "metadata": {
        "id": "Arj54r_eLWWt"
      }
    },
    {
      "cell_type": "code",
      "source": [
        "colunas = [\"id\", \"andar\", \"area_util\", \"banheiros\", \"quartos\", \\\n",
        "             \"suites\", \"vaga\", \"bairro\", \"zona\", \"condominio\", \"iptu\", \"valor\"]\n",
        "\n",
        "dados\\\n",
        "    .select([f.count(f.when(f.isnan(c) | f.isnull(c), True)).alias(c) for c in colunas])\\\n",
        "    .show()"
      ],
      "metadata": {
        "colab": {
          "base_uri": "https://localhost:8080/"
        },
        "id": "GSFrsE4qM1fY",
        "outputId": "81df7c12-e596-4db2-f8e6-ce5cacb89db3"
      },
      "execution_count": 17,
      "outputs": [
        {
          "output_type": "stream",
          "name": "stdout",
          "text": [
            "+---+-----+---------+---------+-------+------+----+------+----+----------+----+-----+\n",
            "| id|andar|area_util|banheiros|quartos|suites|vaga|bairro|zona|condominio|iptu|valor|\n",
            "+---+-----+---------+---------+-------+------+----+------+----+----------+----+-----+\n",
            "|  0|    0|        0|        0|      0|  5554|3017|     0|   0|      2371|7199|    0|\n",
            "+---+-----+---------+---------+-------+------+----+------+----+----------+----+-----+\n",
            "\n"
          ]
        }
      ]
    },
    {
      "cell_type": "code",
      "source": [
        "dados = dados\\\n",
        "    .select('*')\\\n",
        "    .na\\\n",
        "    .fill(0)"
      ],
      "metadata": {
        "id": "OzjZLSXHCjHH"
      },
      "execution_count": 18,
      "outputs": []
    },
    {
      "cell_type": "code",
      "source": [
        "dados\\\n",
        "    .select([f.count(f.when(f.isnan(c) | f.isnull(c), True)).alias(c) for c in colunas])\\\n",
        "    .show()"
      ],
      "metadata": {
        "colab": {
          "base_uri": "https://localhost:8080/"
        },
        "id": "sClGwuAIGWt7",
        "outputId": "e48f22f3-e17a-4dbc-fbef-0d9f0ce435a3"
      },
      "execution_count": 19,
      "outputs": [
        {
          "output_type": "stream",
          "name": "stdout",
          "text": [
            "+---+-----+---------+---------+-------+------+----+------+----+----------+----+-----+\n",
            "| id|andar|area_util|banheiros|quartos|suites|vaga|bairro|zona|condominio|iptu|valor|\n",
            "+---+-----+---------+---------+-------+------+----+------+----+----------+----+-----+\n",
            "|  0|    0|        0|        0|      0|     0|   0|     0|   0|         0|   0|    0|\n",
            "+---+-----+---------+---------+-------+------+----+------+----+----------+----+-----+\n",
            "\n"
          ]
        }
      ]
    },
    {
      "cell_type": "markdown",
      "source": [
        "## **Preparação dos dados para machine learning**"
      ],
      "metadata": {
        "id": "0Lm0uSzPNNVF"
      }
    },
    {
      "cell_type": "code",
      "source": [
        "dados\\\n",
        "    .select('zona')\\\n",
        "    .groupBy('zona')\\\n",
        "    .count()\\\n",
        "    .show()"
      ],
      "metadata": {
        "colab": {
          "base_uri": "https://localhost:8080/"
        },
        "id": "-ujqKSQVSFaf",
        "outputId": "f900867b-52e4-4dd5-e232-197ece3803f2"
      },
      "execution_count": 20,
      "outputs": [
        {
          "output_type": "stream",
          "name": "stdout",
          "text": [
            "+------------+-----+\n",
            "|        zona|count|\n",
            "+------------+-----+\n",
            "|  Zona Norte|11897|\n",
            "|  Zona Oeste|32979|\n",
            "|Zona Central| 1144|\n",
            "|    Zona Sul|20531|\n",
            "|            |   11|\n",
            "+------------+-----+\n",
            "\n"
          ]
        }
      ]
    },
    {
      "cell_type": "code",
      "source": [
        "dados = dados\\\n",
        "    .where(f.col('zona') != '')"
      ],
      "metadata": {
        "id": "y4o4PStSMd8G"
      },
      "execution_count": 21,
      "outputs": []
    },
    {
      "cell_type": "code",
      "source": [
        "zona = dados\\\n",
        "    .groupBy('id')\\\n",
        "    .pivot('zona')\\\n",
        "    .agg(f.lit(1))\\\n",
        "    .na\\\n",
        "    .fill(0)\n",
        "\n",
        "zona.show(5)"
      ],
      "metadata": {
        "colab": {
          "base_uri": "https://localhost:8080/"
        },
        "id": "8qWpA2FuRhVM",
        "outputId": "4123bf36-f8c1-40c8-b683-4364aa3e2dec"
      },
      "execution_count": 22,
      "outputs": [
        {
          "output_type": "stream",
          "name": "stdout",
          "text": [
            "+--------------------+------------+----------+----------+--------+\n",
            "|                  id|Zona Central|Zona Norte|Zona Oeste|Zona Sul|\n",
            "+--------------------+------------+----------+----------+--------+\n",
            "|4e47e4d4-3326-4eb...|           0|         0|         0|       1|\n",
            "|02fba6ef-a691-442...|           0|         0|         1|       0|\n",
            "|fc03c1a9-8bbb-41a...|           0|         1|         0|       0|\n",
            "|3dd5d200-0a7f-43d...|           0|         0|         0|       1|\n",
            "|82707939-71bd-40c...|           0|         0|         0|       1|\n",
            "+--------------------+------------+----------+----------+--------+\n",
            "only showing top 5 rows\n",
            "\n"
          ]
        }
      ]
    },
    {
      "cell_type": "code",
      "source": [
        "caracteristicas = dados.select(dados.id,f.explode(dados.caracteristicas))\n",
        "caracteristicas.groupBy('col').count().show()"
      ],
      "metadata": {
        "colab": {
          "base_uri": "https://localhost:8080/"
        },
        "id": "7nY0tm2mSOFZ",
        "outputId": "53f6b867-8f3f-46e7-953b-7e14279d4a53"
      },
      "execution_count": 23,
      "outputs": [
        {
          "output_type": "stream",
          "name": "stdout",
          "text": [
            "+------------------+-----+\n",
            "|               col|count|\n",
            "+------------------+-----+\n",
            "|Condomínio fechado|34980|\n",
            "|        Playground|31854|\n",
            "| Portão eletrônico|29323|\n",
            "|           Piscina|33235|\n",
            "|Animais permitidos|30617|\n",
            "|      Portaria 24h|30360|\n",
            "|          Elevador|43023|\n",
            "|          Academia|27641|\n",
            "|   Salão de festas|33582|\n",
            "|     Churrasqueira|31737|\n",
            "+------------------+-----+\n",
            "\n"
          ]
        }
      ]
    },
    {
      "cell_type": "code",
      "source": [
        "caracteristicas = caracteristicas\\\n",
        "                .groupBy('id')\\\n",
        "                .pivot('col')\\\n",
        "                .agg(f.lit(1))\\\n",
        "                .na\\\n",
        "                .fill(0)\n",
        "caracteristicas.show()"
      ],
      "metadata": {
        "colab": {
          "base_uri": "https://localhost:8080/"
        },
        "id": "4DX1C6M2TkLY",
        "outputId": "ef69658a-af98-4586-c20a-d3c7fff4152e"
      },
      "execution_count": 24,
      "outputs": [
        {
          "output_type": "stream",
          "name": "stdout",
          "text": [
            "+--------------------+--------+------------------+-------------+------------------+--------+-------+----------+------------+-----------------+---------------+\n",
            "|                  id|Academia|Animais permitidos|Churrasqueira|Condomínio fechado|Elevador|Piscina|Playground|Portaria 24h|Portão eletrônico|Salão de festas|\n",
            "+--------------------+--------+------------------+-------------+------------------+--------+-------+----------+------------+-----------------+---------------+\n",
            "|fd96bbd5-d631-416...|       1|                 1|            1|                 1|       1|      1|         1|           1|                1|              1|\n",
            "|bfffedfe-99e7-4ae...|       0|                 1|            1|                 1|       1|      0|         1|           0|                1|              1|\n",
            "|fcb67af3-5601-415...|       1|                 1|            1|                 0|       0|      1|         1|           0|                0|              1|\n",
            "|afecddff-f4cc-4ab...|       1|                 1|            1|                 1|       1|      1|         1|           1|                1|              1|\n",
            "|1bbc40f3-4f5c-459...|       1|                 0|            0|                 1|       1|      1|         1|           1|                1|              1|\n",
            "|fd26aeb2-a7b3-4f8...|       1|                 1|            1|                 1|       1|      1|         1|           1|                1|              1|\n",
            "|10e9d118-dbad-43c...|       0|                 1|            1|                 1|       0|      1|         1|           1|                1|              1|\n",
            "|ca1e84d7-86c8-4b1...|       1|                 0|            1|                 1|       1|      1|         1|           1|                1|              1|\n",
            "|d9e139a5-e85d-4e1...|       1|                 1|            1|                 1|       1|      1|         1|           1|                1|              1|\n",
            "|156a1fa5-37ca-43d...|       1|                 0|            1|                 1|       1|      1|         1|           1|                1|              1|\n",
            "|e7be09eb-6223-4b4...|       1|                 1|            1|                 1|       1|      1|         1|           1|                1|              1|\n",
            "|631efda0-5e10-422...|       1|                 1|            1|                 1|       1|      1|         1|           1|                1|              1|\n",
            "|07cbfef2-efbf-4e8...|       0|                 1|            0|                 0|       1|      0|         0|           1|                0|              0|\n",
            "|62baf185-103d-448...|       1|                 0|            1|                 1|       0|      1|         1|           0|                0|              0|\n",
            "|3030d17c-5681-4b2...|       1|                 1|            1|                 1|       1|      1|         0|           1|                1|              1|\n",
            "|6179c8a4-1fd2-4f5...|       1|                 1|            0|                 1|       1|      1|         1|           1|                1|              1|\n",
            "|c284072a-7298-4e5...|       1|                 1|            1|                 1|       1|      1|         1|           1|                1|              1|\n",
            "|7e43514c-3b40-4fb...|       1|                 1|            1|                 1|       1|      1|         1|           1|                1|              1|\n",
            "|6a4ce9ac-1eb0-4d4...|       1|                 0|            1|                 0|       1|      1|         1|           0|                0|              1|\n",
            "|bdc6127a-1d97-41b...|       1|                 0|            1|                 0|       0|      0|         0|           0|                0|              1|\n",
            "+--------------------+--------+------------------+-------------+------------------+--------+-------+----------+------------+-----------------+---------------+\n",
            "only showing top 20 rows\n",
            "\n"
          ]
        }
      ]
    },
    {
      "cell_type": "code",
      "source": [
        "dados = dados\\\n",
        "    .join(zona, 'id', how='inner')\\\n",
        "    .join(caracteristicas, 'id', how='left')\n",
        "    #.drop('caracteristicas')\\\n",
        "    #.drop('zona')\n",
        "\n",
        "# Limpar os dados nulos gerados pelo left join de caracteristicas\n",
        "dados = dados\\\n",
        "    .select('*')\\\n",
        "    .na\\\n",
        "    .fill(0)\n",
        "\n",
        "dados.show()"
      ],
      "metadata": {
        "colab": {
          "base_uri": "https://localhost:8080/"
        },
        "id": "PDqCYSuTTyjw",
        "outputId": "0e41e584-6e41-47b4-d330-52203e154dd8"
      },
      "execution_count": 25,
      "outputs": [
        {
          "output_type": "stream",
          "name": "stdout",
          "text": [
            "+--------------------+-----+---------+---------+--------------------+-------+------+----+--------------------+------------+----------+-------+---------+------------+----------+----------+--------+--------+------------------+-------------+------------------+--------+-------+----------+------------+-----------------+---------------+\n",
            "|                  id|andar|area_util|banheiros|     caracteristicas|quartos|suites|vaga|              bairro|        zona|condominio|   iptu|    valor|Zona Central|Zona Norte|Zona Oeste|Zona Sul|Academia|Animais permitidos|Churrasqueira|Condomínio fechado|Elevador|Piscina|Playground|Portaria 24h|Portão eletrônico|Salão de festas|\n",
            "+--------------------+-----+---------+---------+--------------------+-------+------+----+--------------------+------------+----------+-------+---------+------------+----------+----------+--------+--------+------------------+-------------+------------------+--------+-------+----------+------------+-----------------+---------------+\n",
            "|02fba6ef-a691-442...|    3|     64.0|        1|[Academia, Churra...|      2|     2|   1|         Jacarepaguá|  Zona Oeste|     784.0|   80.0| 380000.0|           0|         0|         1|       0|       1|                 1|            1|                 1|       1|      1|         1|           1|                1|              1|\n",
            "|03a386b6-7ab8-4ef...|    0|     43.0|        1|[Churrasqueira, A...|      2|     0|   1|            Realengo|  Zona Oeste|     285.0|    0.0|  22999.0|           0|         0|         1|       0|       1|                 1|            1|                 1|       0|      0|         1|           1|                1|              1|\n",
            "|107507e0-f075-47e...|    0|    122.0|        1|[Elevador, Churra...|      3|     1|   2|Recreio dos Bande...|  Zona Oeste|     810.0| 3000.0| 895000.0|           0|         0|         1|       0|       0|                 1|            1|                 1|       1|      0|         0|           0|                1|              0|\n",
            "|3521e03b-0815-4aa...|    0|    286.0|        7|[Portão eletrônic...|      7|     3|   4|          Copacabana|    Zona Sul|    2148.0|15000.0|4500000.0|           0|         0|         0|       1|       0|                 0|            0|                 1|       0|      0|         0|           1|                1|              0|\n",
            "|3dd5d200-0a7f-43d...|    0|    170.0|        3|          [Elevador]|      4|     1|   1|         Cosme Velho|    Zona Sul|    2250.0| 3000.0|1450000.0|           0|         0|         0|       1|       0|                 0|            0|                 0|       1|      0|         0|           0|                0|              0|\n",
            "|3e9a8997-8071-4a4...|    0|     85.0|        2|[Elevador, Academ...|      2|     1|   2|     Barra da Tijuca|  Zona Oeste|     900.0| 2500.0| 680000.0|           0|         0|         1|       0|       1|                 1|            1|                 1|       1|      1|         1|           1|                1|              1|\n",
            "|44e32862-bfb9-4f6...|    0|     64.0|        2|[Churrasqueira, P...|      2|     1|   1|         Jacarepaguá|  Zona Oeste|     690.0| 1078.0| 540000.0|           0|         0|         1|       0|       1|                 0|            1|                 0|       0|      0|         1|           0|                0|              1|\n",
            "|4c49bd8a-815f-496...|    0|    180.0|        3|                null|      4|     1|   1|               Gávea|    Zona Sul|    1841.0|  600.0|2248000.0|           0|         0|         0|       1|       0|                 0|            0|                 0|       0|      0|         0|           0|                0|              0|\n",
            "|4e47e4d4-3326-4eb...|    0|     90.0|        2|          [Elevador]|      3|     1|   0|          Copacabana|    Zona Sul|     950.0| 2677.0| 949020.0|           0|         0|         0|       1|       0|                 0|            0|                 0|       1|      0|         0|           0|                0|              0|\n",
            "|6179c8a4-1fd2-4f5...|    0|    356.0|        8|[Condomínio fecha...|      4|     4|   3|     Barra da Tijuca|  Zona Oeste|    4400.0|10000.0|2700000.0|           0|         0|         1|       0|       1|                 1|            0|                 1|       1|      1|         1|           1|                1|              1|\n",
            "|82707939-71bd-40c...|    0|    525.0|        4|                null|      4|     2|   2|            Flamengo|    Zona Sul|    5000.0| 2100.0|5199000.0|           0|         0|         0|       1|       0|                 0|            0|                 0|       0|      0|         0|           0|                0|              0|\n",
            "|9ab97f8d-0d2a-4a9...|    0|    156.0|        2|          [Elevador]|      3|     1|   1|          Copacabana|    Zona Sul|    1152.0|  419.0|1180000.0|           0|         0|         0|       1|       0|                 0|            0|                 0|       1|      0|         0|           0|                0|              0|\n",
            "|a4b88c04-2655-414...|    0|    160.0|        3| [Elevador, Piscina]|      2|     1|   2|Recreio dos Bande...|  Zona Oeste|    1976.0|  389.0| 850000.0|           0|         0|         1|       0|       0|                 0|            0|                 0|       1|      1|         0|           0|                0|              0|\n",
            "|af143cf5-1902-4fb...|    0|     46.0|        1|[Playground, Salã...|      2|     0|   0|           Pechincha|  Zona Oeste|       0.0|    0.0| 276000.0|           0|         0|         1|       0|       0|                 0|            0|                 0|       0|      0|         1|           0|                0|              1|\n",
            "|b37a2a08-d3c6-489...|    0|     72.0|        3|                null|      2|     1|   2|              Grajaú|  Zona Norte|     770.0| 1110.0| 420000.0|           0|         1|         0|       0|       0|                 0|            0|                 0|       0|      0|         0|           0|                0|              0|\n",
            "|c7e56e3a-a2b2-48a...|    3|    335.0|        5|[Elevador, Portão...|      3|     2|   4|     Barra da Tijuca|  Zona Oeste|    2800.0|13500.0|3980000.0|           0|         0|         1|       0|       0|                 1|            0|                 0|       1|      0|         0|           0|                1|              0|\n",
            "|e4031c0d-5b72-493...|   10|     50.0|        1|[Academia, Churra...|      2|     0|   1|         Jacarepaguá|  Zona Oeste|     300.0|  150.0| 300000.0|           0|         0|         1|       0|       1|                 1|            1|                 1|       1|      1|         1|           1|                1|              1|\n",
            "|e5e00255-6408-4e6...| 1234|    245.0|        5|[Portão eletrônic...|      4|     2|   3|     Barra da Tijuca|  Zona Oeste|    3800.0| 7900.0|2080000.0|           0|         0|         1|       0|       1|                 1|            1|                 1|       1|      1|         1|           1|                1|              1|\n",
            "|ece1e671-cb4d-48a...|    0|     50.0|        1|[Academia, Churra...|      2|     0|   1|              Centro|Zona Central|     320.0|   80.0| 330000.0|           1|         0|         0|       0|       1|                 1|            1|                 1|       1|      1|         1|           1|                1|              1|\n",
            "|efef38d2-12cf-428...|    0|    140.0|        4|[Churrasqueira, P...|      3|     1|   2|     Barra da Tijuca|  Zona Oeste|    1850.0| 4000.0|1950000.0|           0|         0|         1|       0|       0|                 0|            1|                 0|       0|      1|         1|           0|                0|              1|\n",
            "+--------------------+-----+---------+---------+--------------------+-------+------+----+--------------------+------------+----------+-------+---------+------------+----------+----------+--------+--------+------------------+-------------+------------------+--------+-------+----------+------------+-----------------+---------------+\n",
            "only showing top 20 rows\n",
            "\n"
          ]
        }
      ]
    },
    {
      "cell_type": "markdown",
      "source": [
        "## **Salvar a base de dados em parquet**"
      ],
      "metadata": {
        "id": "HnxxUJ5CU_-U"
      }
    },
    {
      "cell_type": "code",
      "source": [
        "dados.write.parquet(\n",
        "    path='/content/drive/MyDrive/curso-spark/semana_2/modelo',\n",
        "    mode='overwrite'\n",
        ")"
      ],
      "metadata": {
        "id": "V9tgJXDuUKdH"
      },
      "execution_count": 26,
      "outputs": []
    },
    {
      "cell_type": "markdown",
      "source": [
        "## **Preparação dos dados para os algoritmos do Spark MLlib**"
      ],
      "metadata": {
        "id": "XY3VypidA2xJ"
      }
    },
    {
      "cell_type": "code",
      "source": [
        "from pyspark.ml.feature import VectorAssembler"
      ],
      "metadata": {
        "id": "aPzqwNv6VU5Q"
      },
      "execution_count": 27,
      "outputs": []
    },
    {
      "cell_type": "code",
      "source": [
        "dataset = dados.withColumnRenamed('valor','label')"
      ],
      "metadata": {
        "id": "VzbRSQMYA_K9"
      },
      "execution_count": 28,
      "outputs": []
    },
    {
      "cell_type": "code",
      "source": [
        "X = [\n",
        "    'andar',\n",
        "    'area_util',\n",
        "    'banheiros',\n",
        "    'quartos',\n",
        "    'suites',\n",
        "    'vaga',\n",
        "    'condominio',\n",
        "    'iptu',\n",
        "    'Zona Central',\n",
        "    'Zona Norte',\n",
        "    'Zona Oeste',\n",
        "    'Zona Sul',\n",
        "    'Academia',\n",
        "    'Animais permitidos',\n",
        "    'Churrasqueira',\n",
        "    'Condomínio fechado',\n",
        "    'Elevador',\n",
        "    'Piscina',\n",
        "    'Playground',\n",
        "    'Portaria 24h',\n",
        "    'Portão eletrônico',\n",
        "    'Salão de festas'\n",
        "]"
      ],
      "metadata": {
        "id": "kdccsEz2BFNd"
      },
      "execution_count": 31,
      "outputs": []
    },
    {
      "cell_type": "code",
      "source": [
        "assembler = VectorAssembler(inputCols = X, outputCol = 'features')"
      ],
      "metadata": {
        "id": "3_3SHBFxB2Yf"
      },
      "execution_count": 32,
      "outputs": []
    },
    {
      "cell_type": "code",
      "source": [
        "dataset_prep = assembler.transform(dataset).select('features', 'label')"
      ],
      "metadata": {
        "id": "D50nuKoiB6Dz"
      },
      "execution_count": 33,
      "outputs": []
    },
    {
      "cell_type": "code",
      "source": [
        "dataset_prep.show(10, truncate=False)"
      ],
      "metadata": {
        "id": "xczv4Y94CG8O",
        "outputId": "352f5e37-ef43-487e-9a06-732ba88c2850",
        "colab": {
          "base_uri": "https://localhost:8080/"
        }
      },
      "execution_count": 34,
      "outputs": [
        {
          "output_type": "stream",
          "name": "stdout",
          "text": [
            "+-------------------------------------------------------------------------------------------------+---------+\n",
            "|features                                                                                         |label    |\n",
            "+-------------------------------------------------------------------------------------------------+---------+\n",
            "|(22,[1,2,3,4,5,6,7,11,16],[410.0,3.0,4.0,1.0,1.0,3300.0,5780.0,1.0,1.0])                         |4600000.0|\n",
            "|(22,[0,1,2,3,5,6,7,9,13,16,20,21],[1.0,50.0,1.0,1.0,1.0,500.0,600.0,1.0,1.0,1.0,1.0,1.0])        |360000.0 |\n",
            "|(22,[1,2,3,4,5,10,14,16,17],[148.0,4.0,4.0,2.0,2.0,1.0,1.0,1.0,1.0])                             |1200000.0|\n",
            "|(22,[1,2,3,6,7,11,16],[104.0,1.0,2.0,1010.0,272.0,1.0,1.0])                                      |750000.0 |\n",
            "|(22,[1,2,3,5,6,7,11,16],[71.0,2.0,2.0,1.0,1312.0,360.0,1.0,1.0])                                 |1025000.0|\n",
            "|[3.0,115.0,2.0,3.0,0.0,0.0,1904.0,3831.0,0.0,0.0,0.0,1.0,0.0,1.0,0.0,1.0,1.0,0.0,1.0,1.0,1.0,1.0]|1100000.0|\n",
            "|[0.0,65.0,1.0,2.0,0.0,0.0,0.0,0.0,0.0,0.0,1.0,0.0,1.0,1.0,1.0,1.0,1.0,1.0,1.0,1.0,1.0,1.0]       |593036.0 |\n",
            "|[1.0,74.0,2.0,2.0,1.0,1.0,1.0,1.0,0.0,0.0,1.0,0.0,1.0,1.0,1.0,1.0,1.0,1.0,1.0,1.0,1.0,1.0]       |1031576.0|\n",
            "|(22,[0,1,2,3,4,6,7,11,13,16,20],[5.0,100.0,3.0,3.0,1.0,2081.0,240.0,1.0,1.0,1.0,1.0])            |800000.0 |\n",
            "|(22,[0,1,2,3,4,5,6,7,10],[11.0,105.0,3.0,3.0,1.0,2.0,1400.0,281.0,1.0])                          |1150000.0|\n",
            "+-------------------------------------------------------------------------------------------------+---------+\n",
            "only showing top 10 rows\n",
            "\n"
          ]
        }
      ]
    },
    {
      "cell_type": "markdown",
      "source": [
        "## **Análise de correlação**"
      ],
      "metadata": {
        "id": "MplQPRT9CNgm"
      }
    },
    {
      "cell_type": "code",
      "source": [
        "from pyspark.ml.stat import Correlation\n",
        "import pandas as pd"
      ],
      "metadata": {
        "id": "8YLzdeV0CI8X"
      },
      "execution_count": 35,
      "outputs": []
    },
    {
      "cell_type": "code",
      "source": [
        "correlacao = Correlation.corr(dataset_prep, 'features').collect()[0][0]\n",
        "correlacao"
      ],
      "metadata": {
        "id": "F-HaIuXICyIz",
        "outputId": "859d1659-ee8c-45d9-9b32-def66d067cec",
        "colab": {
          "base_uri": "https://localhost:8080/"
        }
      },
      "execution_count": 38,
      "outputs": [
        {
          "output_type": "execute_result",
          "data": {
            "text/plain": [
              "DenseMatrix(22, 22, [1.0, 0.0207, 0.0176, 0.0101, 0.0243, 0.0183, 0.0066, 0.0004, ..., 0.6478, 0.5141, 0.4308, 0.654, 0.7383, 0.4586, 0.3852, 1.0], False)"
            ]
          },
          "metadata": {},
          "execution_count": 38
        }
      ]
    },
    {
      "cell_type": "code",
      "source": [
        "correlacao.toArray()"
      ],
      "metadata": {
        "id": "vPiNLrDvCzvQ",
        "outputId": "de1cfce6-ce42-44e1-dd7e-adcf50ae1562",
        "colab": {
          "base_uri": "https://localhost:8080/"
        }
      },
      "execution_count": 39,
      "outputs": [
        {
          "output_type": "execute_result",
          "data": {
            "text/plain": [
              "array([[ 1.00000000e+00,  2.06748857e-02,  1.75771533e-02,\n",
              "         1.00834528e-02,  2.42741138e-02,  1.82718435e-02,\n",
              "         6.61793025e-03,  3.81095579e-04,  3.54157220e-02,\n",
              "        -9.34283198e-03,  1.13949699e-02, -1.45510872e-02,\n",
              "         6.41111110e-02,  1.01639775e-01,  4.57692561e-02,\n",
              "         9.17071035e-02,  7.19853276e-02,  4.35550202e-02,\n",
              "         5.37283976e-02,  8.96649707e-02,  8.34316227e-02,\n",
              "         5.86164288e-02],\n",
              "       [ 2.06748857e-02,  1.00000000e+00,  6.71030551e-01,\n",
              "         6.74075597e-01,  6.20128736e-01,  4.71928438e-01,\n",
              "         4.56765657e-02,  2.13371390e-02, -1.03892024e-01,\n",
              "        -1.70483530e-01,  1.20950909e-01,  3.97345272e-02,\n",
              "         1.99696761e-03, -1.29998185e-02, -2.40512015e-02,\n",
              "        -1.26055199e-02,  1.68407713e-02,  1.81253057e-02,\n",
              "        -1.57595387e-02, -2.44674623e-02, -2.12857930e-03,\n",
              "        -2.69092650e-02],\n",
              "       [ 1.75771533e-02,  6.71030551e-01,  1.00000000e+00,\n",
              "         6.49025360e-01,  7.39838048e-01,  4.45058514e-01,\n",
              "         2.71867036e-02,  1.39344056e-02, -1.25550684e-01,\n",
              "        -1.64139076e-01,  1.90515403e-01, -3.47373077e-02,\n",
              "         7.92968059e-02, -2.43901938e-02,  4.27916891e-02,\n",
              "        -5.23825480e-03,  5.71311000e-02,  9.92092073e-02,\n",
              "         6.63659658e-02, -3.49597846e-02, -1.65458229e-02,\n",
              "         5.59170440e-02],\n",
              "       [ 1.00834528e-02,  6.74075597e-01,  6.49025360e-01,\n",
              "         1.00000000e+00,  5.79925146e-01,  4.30441603e-01,\n",
              "         2.16525943e-02,  1.72499625e-02, -1.62938049e-01,\n",
              "        -1.20802656e-01,  1.63482939e-01, -3.09036935e-02,\n",
              "         6.13066084e-02, -2.10575776e-02,  6.14616802e-02,\n",
              "        -3.14082554e-04,  2.56267742e-02,  8.26988719e-02,\n",
              "         7.77226463e-02, -2.25214672e-02, -1.57031849e-02,\n",
              "         6.08197737e-02],\n",
              "       [ 2.42741138e-02,  6.20128736e-01,  7.39838048e-01,\n",
              "         5.79925146e-01,  1.00000000e+00,  4.58183874e-01,\n",
              "         2.90633646e-02,  1.18285134e-02, -1.04031862e-01,\n",
              "        -2.15537149e-01,  2.88745498e-01, -1.04489231e-01,\n",
              "         2.42630058e-01,  6.55394612e-02,  1.85553381e-01,\n",
              "         1.39081282e-01,  1.20021711e-01,  2.63923167e-01,\n",
              "         1.88921100e-01,  7.99882788e-02,  8.95739297e-02,\n",
              "         1.73719996e-01],\n",
              "       [ 1.82718435e-02,  4.71928438e-01,  4.45058514e-01,\n",
              "         4.30441603e-01,  4.58183874e-01,  1.00000000e+00,\n",
              "         2.58842279e-02,  1.19807177e-02, -9.82763078e-02,\n",
              "        -1.05648328e-01,  2.57722284e-01, -1.63686330e-01,\n",
              "         1.39842511e-01,  3.85549845e-02,  1.31505037e-01,\n",
              "         7.94846740e-02,  6.13700126e-02,  1.70347534e-01,\n",
              "         1.33452224e-01,  3.49001157e-02,  4.62574718e-02,\n",
              "         1.33179623e-01],\n",
              "       [ 6.61793025e-03,  4.56765657e-02,  2.71867036e-02,\n",
              "         2.16525943e-02,  2.90633646e-02,  2.58842279e-02,\n",
              "         1.00000000e+00,  2.02201365e-01, -4.42297473e-03,\n",
              "        -1.01036187e-02,  2.32212094e-03,  7.11261419e-03,\n",
              "         1.43106413e-02,  1.25853568e-02,  5.71242256e-03,\n",
              "         1.23185788e-02,  1.33922978e-02,  1.00223621e-02,\n",
              "         9.57578408e-03,  1.19974420e-02,  6.17962790e-03,\n",
              "         9.13785969e-03],\n",
              "       [ 3.81095579e-04,  2.13371390e-02,  1.39344056e-02,\n",
              "         1.72499625e-02,  1.18285134e-02,  1.19807177e-02,\n",
              "         2.02201365e-01,  1.00000000e+00, -3.63958588e-03,\n",
              "        -8.72015832e-03, -5.66887482e-03,  1.43947588e-02,\n",
              "         3.35276445e-03, -1.87839173e-03, -3.08118539e-03,\n",
              "        -5.23373437e-03,  6.51529579e-03,  2.49568213e-03,\n",
              "         7.89849430e-04, -1.19614782e-03, -4.48586574e-03,\n",
              "         1.12381412e-03],\n",
              "       [ 3.54157220e-02, -1.03892024e-01, -1.25550684e-01,\n",
              "        -1.62938049e-01, -1.04031862e-01, -9.82763078e-02,\n",
              "        -4.42297473e-03, -3.63958588e-03,  1.00000000e+00,\n",
              "        -6.17033370e-02, -1.31078370e-01, -8.83349651e-02,\n",
              "         4.31320330e-02,  5.51344421e-02,  1.72355189e-03,\n",
              "         4.73906987e-02,  3.80721780e-02,  1.35711011e-02,\n",
              "        -3.13913917e-03,  4.94647981e-02,  4.32981885e-02,\n",
              "         8.49297439e-03],\n",
              "       [-9.34283198e-03, -1.70483530e-01, -1.64139076e-01,\n",
              "        -1.20802656e-01, -2.15537149e-01, -1.05648328e-01,\n",
              "        -1.01036187e-02, -8.72015832e-03, -6.17033370e-02,\n",
              "         1.00000000e+00, -4.62421362e-01, -3.11630172e-01,\n",
              "        -1.20985061e-01, -2.60645586e-02, -5.11516057e-02,\n",
              "        -8.97046475e-02, -2.78098635e-02, -1.33984508e-01,\n",
              "        -3.66135473e-02, -7.26190740e-02, -3.21444720e-02,\n",
              "        -1.86907747e-02],\n",
              "       [ 1.13949699e-02,  1.20950909e-01,  1.90515403e-01,\n",
              "         1.63482939e-01,  2.88745498e-01,  2.57722284e-01,\n",
              "         2.32212094e-03, -5.66887482e-03, -1.31078370e-01,\n",
              "        -4.62421362e-01,  1.00000000e+00, -6.62005928e-01,\n",
              "         3.60169747e-01,  8.29060212e-02,  4.16617829e-01,\n",
              "         2.20691493e-01,  5.30057909e-02,  4.30819037e-01,\n",
              "         2.86965771e-01,  7.86370815e-02,  7.85832438e-02,\n",
              "         3.05872695e-01],\n",
              "       [-1.45510872e-02,  3.97345272e-02, -3.47373077e-02,\n",
              "        -3.09036935e-02, -1.04489231e-01, -1.63686330e-01,\n",
              "         7.11261419e-03,  1.43947588e-02, -8.83349651e-02,\n",
              "        -3.11630172e-01, -6.62005928e-01,  1.00000000e+00,\n",
              "        -3.01657526e-01, -8.36393425e-02, -4.09041287e-01,\n",
              "        -1.77819582e-01, -4.50228435e-02, -3.59032784e-01,\n",
              "        -2.79384441e-01, -3.88026034e-02, -7.05853344e-02,\n",
              "        -3.17992822e-01],\n",
              "       [ 6.41111110e-02,  1.99696761e-03,  7.92968059e-02,\n",
              "         6.13066084e-02,  2.42630058e-01,  1.39842511e-01,\n",
              "         1.43106413e-02,  3.35276445e-03,  4.31320330e-02,\n",
              "        -1.20985061e-01,  3.60169747e-01, -3.01657526e-01,\n",
              "         1.00000000e+00,  4.10868006e-01,  6.76222328e-01,\n",
              "         5.91754976e-01,  4.55410919e-01,  7.48366169e-01,\n",
              "         6.71441010e-01,  4.93951070e-01,  4.17784138e-01,\n",
              "         6.93806131e-01],\n",
              "       [ 1.01639775e-01, -1.29998185e-02, -2.43901938e-02,\n",
              "        -2.10575776e-02,  6.55394612e-02,  3.85549845e-02,\n",
              "         1.25853568e-02, -1.87839173e-03,  5.51344421e-02,\n",
              "        -2.60645586e-02,  8.29060212e-02, -8.36393425e-02,\n",
              "         4.10868006e-01,  1.00000000e+00,  3.10759022e-01,\n",
              "         6.27450882e-01,  4.65416458e-01,  3.03905208e-01,\n",
              "         3.44095541e-01,  6.71686294e-01,  6.87906347e-01,\n",
              "         3.89203289e-01],\n",
              "       [ 4.57692561e-02, -2.40512015e-02,  4.27916891e-02,\n",
              "         6.14616802e-02,  1.85553381e-01,  1.31505037e-01,\n",
              "         5.71242256e-03, -3.08118539e-03,  1.72355189e-03,\n",
              "        -5.11516057e-02,  4.16617829e-01, -4.09041287e-01,\n",
              "         6.76222328e-01,  3.10759022e-01,  1.00000000e+00,\n",
              "         4.75333662e-01,  3.80601067e-01,  7.52217518e-01,\n",
              "         6.27252214e-01,  3.72362613e-01,  3.16281912e-01,\n",
              "         6.47823104e-01],\n",
              "       [ 9.17071035e-02, -1.26055199e-02, -5.23825480e-03,\n",
              "        -3.14082554e-04,  1.39081282e-01,  7.94846740e-02,\n",
              "         1.23185788e-02, -5.23373437e-03,  4.73906987e-02,\n",
              "        -8.97046475e-02,  2.20691493e-01, -1.77819582e-01,\n",
              "         5.91754976e-01,  6.27450882e-01,  4.75333662e-01,\n",
              "         1.00000000e+00,  5.23483930e-01,  4.93580815e-01,\n",
              "         4.80831431e-01,  6.96255240e-01,  6.82767208e-01,\n",
              "         5.14101449e-01],\n",
              "       [ 7.19853276e-02,  1.68407713e-02,  5.71311000e-02,\n",
              "         2.56267742e-02,  1.20021711e-01,  6.13700126e-02,\n",
              "         1.33922978e-02,  6.51529579e-03,  3.80721780e-02,\n",
              "        -2.78098635e-02,  5.30057909e-02, -4.50228435e-02,\n",
              "         4.55410919e-01,  4.65416458e-01,  3.80601067e-01,\n",
              "         5.23483930e-01,  1.00000000e+00,  4.11536828e-01,\n",
              "         4.18378789e-01,  5.18357891e-01,  4.81388079e-01,\n",
              "         4.30770160e-01],\n",
              "       [ 4.35550202e-02,  1.81253057e-02,  9.92092073e-02,\n",
              "         8.26988719e-02,  2.63923167e-01,  1.70347534e-01,\n",
              "         1.00223621e-02,  2.49568213e-03,  1.35711011e-02,\n",
              "        -1.33984508e-01,  4.30819037e-01, -3.59032784e-01,\n",
              "         7.48366169e-01,  3.03905208e-01,  7.52217518e-01,\n",
              "         4.93580815e-01,  4.11536828e-01,  1.00000000e+00,\n",
              "         6.44930248e-01,  3.87327832e-01,  3.18242162e-01,\n",
              "         6.54049148e-01],\n",
              "       [ 5.37283976e-02, -1.57595387e-02,  6.63659658e-02,\n",
              "         7.77226463e-02,  1.88921100e-01,  1.33452224e-01,\n",
              "         9.57578408e-03,  7.89849430e-04, -3.13913917e-03,\n",
              "        -3.66135473e-02,  2.86965771e-01, -2.79384441e-01,\n",
              "         6.71441010e-01,  3.44095541e-01,  6.27252214e-01,\n",
              "         4.80831431e-01,  4.18378789e-01,  6.44930248e-01,\n",
              "         1.00000000e+00,  4.26754747e-01,  3.55338888e-01,\n",
              "         7.38262698e-01],\n",
              "       [ 8.96649707e-02, -2.44674623e-02, -3.49597846e-02,\n",
              "        -2.25214672e-02,  7.99882788e-02,  3.49001157e-02,\n",
              "         1.19974420e-02, -1.19614782e-03,  4.94647981e-02,\n",
              "        -7.26190740e-02,  7.86370815e-02, -3.88026034e-02,\n",
              "         4.93951070e-01,  6.71686294e-01,  3.72362613e-01,\n",
              "         6.96255240e-01,  5.18357891e-01,  3.87327832e-01,\n",
              "         4.26754747e-01,  1.00000000e+00,  7.83286315e-01,\n",
              "         4.58586186e-01],\n",
              "       [ 8.34316227e-02, -2.12857930e-03, -1.65458229e-02,\n",
              "        -1.57031849e-02,  8.95739297e-02,  4.62574718e-02,\n",
              "         6.17962790e-03, -4.48586574e-03,  4.32981885e-02,\n",
              "        -3.21444720e-02,  7.85832438e-02, -7.05853344e-02,\n",
              "         4.17784138e-01,  6.87906347e-01,  3.16281912e-01,\n",
              "         6.82767208e-01,  4.81388079e-01,  3.18242162e-01,\n",
              "         3.55338888e-01,  7.83286315e-01,  1.00000000e+00,\n",
              "         3.85214141e-01],\n",
              "       [ 5.86164288e-02, -2.69092650e-02,  5.59170440e-02,\n",
              "         6.08197737e-02,  1.73719996e-01,  1.33179623e-01,\n",
              "         9.13785969e-03,  1.12381412e-03,  8.49297439e-03,\n",
              "        -1.86907747e-02,  3.05872695e-01, -3.17992822e-01,\n",
              "         6.93806131e-01,  3.89203289e-01,  6.47823104e-01,\n",
              "         5.14101449e-01,  4.30770160e-01,  6.54049148e-01,\n",
              "         7.38262698e-01,  4.58586186e-01,  3.85214141e-01,\n",
              "         1.00000000e+00]])"
            ]
          },
          "metadata": {},
          "execution_count": 39
        }
      ]
    },
    {
      "cell_type": "code",
      "source": [
        "dataframe_correlacao = pd.DataFrame(correlacao.toArray(), columns=X, index=X)\n",
        "dataframe_correlacao"
      ],
      "metadata": {
        "id": "VwLvzNpSC3XI",
        "outputId": "36b695d2-729b-4e6b-a6f1-d7cb8a808efc",
        "colab": {
          "base_uri": "https://localhost:8080/",
          "height": 919
        }
      },
      "execution_count": 40,
      "outputs": [
        {
          "output_type": "execute_result",
          "data": {
            "text/plain": [
              "                       andar  area_util  banheiros   quartos    suites  \\\n",
              "andar               1.000000   0.020675   0.017577  0.010083  0.024274   \n",
              "area_util           0.020675   1.000000   0.671031  0.674076  0.620129   \n",
              "banheiros           0.017577   0.671031   1.000000  0.649025  0.739838   \n",
              "quartos             0.010083   0.674076   0.649025  1.000000  0.579925   \n",
              "suites              0.024274   0.620129   0.739838  0.579925  1.000000   \n",
              "vaga                0.018272   0.471928   0.445059  0.430442  0.458184   \n",
              "condominio          0.006618   0.045677   0.027187  0.021653  0.029063   \n",
              "iptu                0.000381   0.021337   0.013934  0.017250  0.011829   \n",
              "Zona Central        0.035416  -0.103892  -0.125551 -0.162938 -0.104032   \n",
              "Zona Norte         -0.009343  -0.170484  -0.164139 -0.120803 -0.215537   \n",
              "Zona Oeste          0.011395   0.120951   0.190515  0.163483  0.288745   \n",
              "Zona Sul           -0.014551   0.039735  -0.034737 -0.030904 -0.104489   \n",
              "Academia            0.064111   0.001997   0.079297  0.061307  0.242630   \n",
              "Animais permitidos  0.101640  -0.013000  -0.024390 -0.021058  0.065539   \n",
              "Churrasqueira       0.045769  -0.024051   0.042792  0.061462  0.185553   \n",
              "Condomínio fechado  0.091707  -0.012606  -0.005238 -0.000314  0.139081   \n",
              "Elevador            0.071985   0.016841   0.057131  0.025627  0.120022   \n",
              "Piscina             0.043555   0.018125   0.099209  0.082699  0.263923   \n",
              "Playground          0.053728  -0.015760   0.066366  0.077723  0.188921   \n",
              "Portaria 24h        0.089665  -0.024467  -0.034960 -0.022521  0.079988   \n",
              "Portão eletrônico   0.083432  -0.002129  -0.016546 -0.015703  0.089574   \n",
              "Salão de festas     0.058616  -0.026909   0.055917  0.060820  0.173720   \n",
              "\n",
              "                        vaga  condominio      iptu  Zona Central  Zona Norte  \\\n",
              "andar               0.018272    0.006618  0.000381      0.035416   -0.009343   \n",
              "area_util           0.471928    0.045677  0.021337     -0.103892   -0.170484   \n",
              "banheiros           0.445059    0.027187  0.013934     -0.125551   -0.164139   \n",
              "quartos             0.430442    0.021653  0.017250     -0.162938   -0.120803   \n",
              "suites              0.458184    0.029063  0.011829     -0.104032   -0.215537   \n",
              "vaga                1.000000    0.025884  0.011981     -0.098276   -0.105648   \n",
              "condominio          0.025884    1.000000  0.202201     -0.004423   -0.010104   \n",
              "iptu                0.011981    0.202201  1.000000     -0.003640   -0.008720   \n",
              "Zona Central       -0.098276   -0.004423 -0.003640      1.000000   -0.061703   \n",
              "Zona Norte         -0.105648   -0.010104 -0.008720     -0.061703    1.000000   \n",
              "Zona Oeste          0.257722    0.002322 -0.005669     -0.131078   -0.462421   \n",
              "Zona Sul           -0.163686    0.007113  0.014395     -0.088335   -0.311630   \n",
              "Academia            0.139843    0.014311  0.003353      0.043132   -0.120985   \n",
              "Animais permitidos  0.038555    0.012585 -0.001878      0.055134   -0.026065   \n",
              "Churrasqueira       0.131505    0.005712 -0.003081      0.001724   -0.051152   \n",
              "Condomínio fechado  0.079485    0.012319 -0.005234      0.047391   -0.089705   \n",
              "Elevador            0.061370    0.013392  0.006515      0.038072   -0.027810   \n",
              "Piscina             0.170348    0.010022  0.002496      0.013571   -0.133985   \n",
              "Playground          0.133452    0.009576  0.000790     -0.003139   -0.036614   \n",
              "Portaria 24h        0.034900    0.011997 -0.001196      0.049465   -0.072619   \n",
              "Portão eletrônico   0.046257    0.006180 -0.004486      0.043298   -0.032144   \n",
              "Salão de festas     0.133180    0.009138  0.001124      0.008493   -0.018691   \n",
              "\n",
              "                    ...  Academia  Animais permitidos  Churrasqueira  \\\n",
              "andar               ...  0.064111            0.101640       0.045769   \n",
              "area_util           ...  0.001997           -0.013000      -0.024051   \n",
              "banheiros           ...  0.079297           -0.024390       0.042792   \n",
              "quartos             ...  0.061307           -0.021058       0.061462   \n",
              "suites              ...  0.242630            0.065539       0.185553   \n",
              "vaga                ...  0.139843            0.038555       0.131505   \n",
              "condominio          ...  0.014311            0.012585       0.005712   \n",
              "iptu                ...  0.003353           -0.001878      -0.003081   \n",
              "Zona Central        ...  0.043132            0.055134       0.001724   \n",
              "Zona Norte          ... -0.120985           -0.026065      -0.051152   \n",
              "Zona Oeste          ...  0.360170            0.082906       0.416618   \n",
              "Zona Sul            ... -0.301658           -0.083639      -0.409041   \n",
              "Academia            ...  1.000000            0.410868       0.676222   \n",
              "Animais permitidos  ...  0.410868            1.000000       0.310759   \n",
              "Churrasqueira       ...  0.676222            0.310759       1.000000   \n",
              "Condomínio fechado  ...  0.591755            0.627451       0.475334   \n",
              "Elevador            ...  0.455411            0.465416       0.380601   \n",
              "Piscina             ...  0.748366            0.303905       0.752218   \n",
              "Playground          ...  0.671441            0.344096       0.627252   \n",
              "Portaria 24h        ...  0.493951            0.671686       0.372363   \n",
              "Portão eletrônico   ...  0.417784            0.687906       0.316282   \n",
              "Salão de festas     ...  0.693806            0.389203       0.647823   \n",
              "\n",
              "                    Condomínio fechado  Elevador   Piscina  Playground  \\\n",
              "andar                         0.091707  0.071985  0.043555    0.053728   \n",
              "area_util                    -0.012606  0.016841  0.018125   -0.015760   \n",
              "banheiros                    -0.005238  0.057131  0.099209    0.066366   \n",
              "quartos                      -0.000314  0.025627  0.082699    0.077723   \n",
              "suites                        0.139081  0.120022  0.263923    0.188921   \n",
              "vaga                          0.079485  0.061370  0.170348    0.133452   \n",
              "condominio                    0.012319  0.013392  0.010022    0.009576   \n",
              "iptu                         -0.005234  0.006515  0.002496    0.000790   \n",
              "Zona Central                  0.047391  0.038072  0.013571   -0.003139   \n",
              "Zona Norte                   -0.089705 -0.027810 -0.133985   -0.036614   \n",
              "Zona Oeste                    0.220691  0.053006  0.430819    0.286966   \n",
              "Zona Sul                     -0.177820 -0.045023 -0.359033   -0.279384   \n",
              "Academia                      0.591755  0.455411  0.748366    0.671441   \n",
              "Animais permitidos            0.627451  0.465416  0.303905    0.344096   \n",
              "Churrasqueira                 0.475334  0.380601  0.752218    0.627252   \n",
              "Condomínio fechado            1.000000  0.523484  0.493581    0.480831   \n",
              "Elevador                      0.523484  1.000000  0.411537    0.418379   \n",
              "Piscina                       0.493581  0.411537  1.000000    0.644930   \n",
              "Playground                    0.480831  0.418379  0.644930    1.000000   \n",
              "Portaria 24h                  0.696255  0.518358  0.387328    0.426755   \n",
              "Portão eletrônico             0.682767  0.481388  0.318242    0.355339   \n",
              "Salão de festas               0.514101  0.430770  0.654049    0.738263   \n",
              "\n",
              "                    Portaria 24h  Portão eletrônico  Salão de festas  \n",
              "andar                   0.089665           0.083432         0.058616  \n",
              "area_util              -0.024467          -0.002129        -0.026909  \n",
              "banheiros              -0.034960          -0.016546         0.055917  \n",
              "quartos                -0.022521          -0.015703         0.060820  \n",
              "suites                  0.079988           0.089574         0.173720  \n",
              "vaga                    0.034900           0.046257         0.133180  \n",
              "condominio              0.011997           0.006180         0.009138  \n",
              "iptu                   -0.001196          -0.004486         0.001124  \n",
              "Zona Central            0.049465           0.043298         0.008493  \n",
              "Zona Norte             -0.072619          -0.032144        -0.018691  \n",
              "Zona Oeste              0.078637           0.078583         0.305873  \n",
              "Zona Sul               -0.038803          -0.070585        -0.317993  \n",
              "Academia                0.493951           0.417784         0.693806  \n",
              "Animais permitidos      0.671686           0.687906         0.389203  \n",
              "Churrasqueira           0.372363           0.316282         0.647823  \n",
              "Condomínio fechado      0.696255           0.682767         0.514101  \n",
              "Elevador                0.518358           0.481388         0.430770  \n",
              "Piscina                 0.387328           0.318242         0.654049  \n",
              "Playground              0.426755           0.355339         0.738263  \n",
              "Portaria 24h            1.000000           0.783286         0.458586  \n",
              "Portão eletrônico       0.783286           1.000000         0.385214  \n",
              "Salão de festas         0.458586           0.385214         1.000000  \n",
              "\n",
              "[22 rows x 22 columns]"
            ],
            "text/html": [
              "\n",
              "  <div id=\"df-754973ca-70d7-43dd-ab8d-ef0879897f56\">\n",
              "    <div class=\"colab-df-container\">\n",
              "      <div>\n",
              "<style scoped>\n",
              "    .dataframe tbody tr th:only-of-type {\n",
              "        vertical-align: middle;\n",
              "    }\n",
              "\n",
              "    .dataframe tbody tr th {\n",
              "        vertical-align: top;\n",
              "    }\n",
              "\n",
              "    .dataframe thead th {\n",
              "        text-align: right;\n",
              "    }\n",
              "</style>\n",
              "<table border=\"1\" class=\"dataframe\">\n",
              "  <thead>\n",
              "    <tr style=\"text-align: right;\">\n",
              "      <th></th>\n",
              "      <th>andar</th>\n",
              "      <th>area_util</th>\n",
              "      <th>banheiros</th>\n",
              "      <th>quartos</th>\n",
              "      <th>suites</th>\n",
              "      <th>vaga</th>\n",
              "      <th>condominio</th>\n",
              "      <th>iptu</th>\n",
              "      <th>Zona Central</th>\n",
              "      <th>Zona Norte</th>\n",
              "      <th>...</th>\n",
              "      <th>Academia</th>\n",
              "      <th>Animais permitidos</th>\n",
              "      <th>Churrasqueira</th>\n",
              "      <th>Condomínio fechado</th>\n",
              "      <th>Elevador</th>\n",
              "      <th>Piscina</th>\n",
              "      <th>Playground</th>\n",
              "      <th>Portaria 24h</th>\n",
              "      <th>Portão eletrônico</th>\n",
              "      <th>Salão de festas</th>\n",
              "    </tr>\n",
              "  </thead>\n",
              "  <tbody>\n",
              "    <tr>\n",
              "      <th>andar</th>\n",
              "      <td>1.000000</td>\n",
              "      <td>0.020675</td>\n",
              "      <td>0.017577</td>\n",
              "      <td>0.010083</td>\n",
              "      <td>0.024274</td>\n",
              "      <td>0.018272</td>\n",
              "      <td>0.006618</td>\n",
              "      <td>0.000381</td>\n",
              "      <td>0.035416</td>\n",
              "      <td>-0.009343</td>\n",
              "      <td>...</td>\n",
              "      <td>0.064111</td>\n",
              "      <td>0.101640</td>\n",
              "      <td>0.045769</td>\n",
              "      <td>0.091707</td>\n",
              "      <td>0.071985</td>\n",
              "      <td>0.043555</td>\n",
              "      <td>0.053728</td>\n",
              "      <td>0.089665</td>\n",
              "      <td>0.083432</td>\n",
              "      <td>0.058616</td>\n",
              "    </tr>\n",
              "    <tr>\n",
              "      <th>area_util</th>\n",
              "      <td>0.020675</td>\n",
              "      <td>1.000000</td>\n",
              "      <td>0.671031</td>\n",
              "      <td>0.674076</td>\n",
              "      <td>0.620129</td>\n",
              "      <td>0.471928</td>\n",
              "      <td>0.045677</td>\n",
              "      <td>0.021337</td>\n",
              "      <td>-0.103892</td>\n",
              "      <td>-0.170484</td>\n",
              "      <td>...</td>\n",
              "      <td>0.001997</td>\n",
              "      <td>-0.013000</td>\n",
              "      <td>-0.024051</td>\n",
              "      <td>-0.012606</td>\n",
              "      <td>0.016841</td>\n",
              "      <td>0.018125</td>\n",
              "      <td>-0.015760</td>\n",
              "      <td>-0.024467</td>\n",
              "      <td>-0.002129</td>\n",
              "      <td>-0.026909</td>\n",
              "    </tr>\n",
              "    <tr>\n",
              "      <th>banheiros</th>\n",
              "      <td>0.017577</td>\n",
              "      <td>0.671031</td>\n",
              "      <td>1.000000</td>\n",
              "      <td>0.649025</td>\n",
              "      <td>0.739838</td>\n",
              "      <td>0.445059</td>\n",
              "      <td>0.027187</td>\n",
              "      <td>0.013934</td>\n",
              "      <td>-0.125551</td>\n",
              "      <td>-0.164139</td>\n",
              "      <td>...</td>\n",
              "      <td>0.079297</td>\n",
              "      <td>-0.024390</td>\n",
              "      <td>0.042792</td>\n",
              "      <td>-0.005238</td>\n",
              "      <td>0.057131</td>\n",
              "      <td>0.099209</td>\n",
              "      <td>0.066366</td>\n",
              "      <td>-0.034960</td>\n",
              "      <td>-0.016546</td>\n",
              "      <td>0.055917</td>\n",
              "    </tr>\n",
              "    <tr>\n",
              "      <th>quartos</th>\n",
              "      <td>0.010083</td>\n",
              "      <td>0.674076</td>\n",
              "      <td>0.649025</td>\n",
              "      <td>1.000000</td>\n",
              "      <td>0.579925</td>\n",
              "      <td>0.430442</td>\n",
              "      <td>0.021653</td>\n",
              "      <td>0.017250</td>\n",
              "      <td>-0.162938</td>\n",
              "      <td>-0.120803</td>\n",
              "      <td>...</td>\n",
              "      <td>0.061307</td>\n",
              "      <td>-0.021058</td>\n",
              "      <td>0.061462</td>\n",
              "      <td>-0.000314</td>\n",
              "      <td>0.025627</td>\n",
              "      <td>0.082699</td>\n",
              "      <td>0.077723</td>\n",
              "      <td>-0.022521</td>\n",
              "      <td>-0.015703</td>\n",
              "      <td>0.060820</td>\n",
              "    </tr>\n",
              "    <tr>\n",
              "      <th>suites</th>\n",
              "      <td>0.024274</td>\n",
              "      <td>0.620129</td>\n",
              "      <td>0.739838</td>\n",
              "      <td>0.579925</td>\n",
              "      <td>1.000000</td>\n",
              "      <td>0.458184</td>\n",
              "      <td>0.029063</td>\n",
              "      <td>0.011829</td>\n",
              "      <td>-0.104032</td>\n",
              "      <td>-0.215537</td>\n",
              "      <td>...</td>\n",
              "      <td>0.242630</td>\n",
              "      <td>0.065539</td>\n",
              "      <td>0.185553</td>\n",
              "      <td>0.139081</td>\n",
              "      <td>0.120022</td>\n",
              "      <td>0.263923</td>\n",
              "      <td>0.188921</td>\n",
              "      <td>0.079988</td>\n",
              "      <td>0.089574</td>\n",
              "      <td>0.173720</td>\n",
              "    </tr>\n",
              "    <tr>\n",
              "      <th>vaga</th>\n",
              "      <td>0.018272</td>\n",
              "      <td>0.471928</td>\n",
              "      <td>0.445059</td>\n",
              "      <td>0.430442</td>\n",
              "      <td>0.458184</td>\n",
              "      <td>1.000000</td>\n",
              "      <td>0.025884</td>\n",
              "      <td>0.011981</td>\n",
              "      <td>-0.098276</td>\n",
              "      <td>-0.105648</td>\n",
              "      <td>...</td>\n",
              "      <td>0.139843</td>\n",
              "      <td>0.038555</td>\n",
              "      <td>0.131505</td>\n",
              "      <td>0.079485</td>\n",
              "      <td>0.061370</td>\n",
              "      <td>0.170348</td>\n",
              "      <td>0.133452</td>\n",
              "      <td>0.034900</td>\n",
              "      <td>0.046257</td>\n",
              "      <td>0.133180</td>\n",
              "    </tr>\n",
              "    <tr>\n",
              "      <th>condominio</th>\n",
              "      <td>0.006618</td>\n",
              "      <td>0.045677</td>\n",
              "      <td>0.027187</td>\n",
              "      <td>0.021653</td>\n",
              "      <td>0.029063</td>\n",
              "      <td>0.025884</td>\n",
              "      <td>1.000000</td>\n",
              "      <td>0.202201</td>\n",
              "      <td>-0.004423</td>\n",
              "      <td>-0.010104</td>\n",
              "      <td>...</td>\n",
              "      <td>0.014311</td>\n",
              "      <td>0.012585</td>\n",
              "      <td>0.005712</td>\n",
              "      <td>0.012319</td>\n",
              "      <td>0.013392</td>\n",
              "      <td>0.010022</td>\n",
              "      <td>0.009576</td>\n",
              "      <td>0.011997</td>\n",
              "      <td>0.006180</td>\n",
              "      <td>0.009138</td>\n",
              "    </tr>\n",
              "    <tr>\n",
              "      <th>iptu</th>\n",
              "      <td>0.000381</td>\n",
              "      <td>0.021337</td>\n",
              "      <td>0.013934</td>\n",
              "      <td>0.017250</td>\n",
              "      <td>0.011829</td>\n",
              "      <td>0.011981</td>\n",
              "      <td>0.202201</td>\n",
              "      <td>1.000000</td>\n",
              "      <td>-0.003640</td>\n",
              "      <td>-0.008720</td>\n",
              "      <td>...</td>\n",
              "      <td>0.003353</td>\n",
              "      <td>-0.001878</td>\n",
              "      <td>-0.003081</td>\n",
              "      <td>-0.005234</td>\n",
              "      <td>0.006515</td>\n",
              "      <td>0.002496</td>\n",
              "      <td>0.000790</td>\n",
              "      <td>-0.001196</td>\n",
              "      <td>-0.004486</td>\n",
              "      <td>0.001124</td>\n",
              "    </tr>\n",
              "    <tr>\n",
              "      <th>Zona Central</th>\n",
              "      <td>0.035416</td>\n",
              "      <td>-0.103892</td>\n",
              "      <td>-0.125551</td>\n",
              "      <td>-0.162938</td>\n",
              "      <td>-0.104032</td>\n",
              "      <td>-0.098276</td>\n",
              "      <td>-0.004423</td>\n",
              "      <td>-0.003640</td>\n",
              "      <td>1.000000</td>\n",
              "      <td>-0.061703</td>\n",
              "      <td>...</td>\n",
              "      <td>0.043132</td>\n",
              "      <td>0.055134</td>\n",
              "      <td>0.001724</td>\n",
              "      <td>0.047391</td>\n",
              "      <td>0.038072</td>\n",
              "      <td>0.013571</td>\n",
              "      <td>-0.003139</td>\n",
              "      <td>0.049465</td>\n",
              "      <td>0.043298</td>\n",
              "      <td>0.008493</td>\n",
              "    </tr>\n",
              "    <tr>\n",
              "      <th>Zona Norte</th>\n",
              "      <td>-0.009343</td>\n",
              "      <td>-0.170484</td>\n",
              "      <td>-0.164139</td>\n",
              "      <td>-0.120803</td>\n",
              "      <td>-0.215537</td>\n",
              "      <td>-0.105648</td>\n",
              "      <td>-0.010104</td>\n",
              "      <td>-0.008720</td>\n",
              "      <td>-0.061703</td>\n",
              "      <td>1.000000</td>\n",
              "      <td>...</td>\n",
              "      <td>-0.120985</td>\n",
              "      <td>-0.026065</td>\n",
              "      <td>-0.051152</td>\n",
              "      <td>-0.089705</td>\n",
              "      <td>-0.027810</td>\n",
              "      <td>-0.133985</td>\n",
              "      <td>-0.036614</td>\n",
              "      <td>-0.072619</td>\n",
              "      <td>-0.032144</td>\n",
              "      <td>-0.018691</td>\n",
              "    </tr>\n",
              "    <tr>\n",
              "      <th>Zona Oeste</th>\n",
              "      <td>0.011395</td>\n",
              "      <td>0.120951</td>\n",
              "      <td>0.190515</td>\n",
              "      <td>0.163483</td>\n",
              "      <td>0.288745</td>\n",
              "      <td>0.257722</td>\n",
              "      <td>0.002322</td>\n",
              "      <td>-0.005669</td>\n",
              "      <td>-0.131078</td>\n",
              "      <td>-0.462421</td>\n",
              "      <td>...</td>\n",
              "      <td>0.360170</td>\n",
              "      <td>0.082906</td>\n",
              "      <td>0.416618</td>\n",
              "      <td>0.220691</td>\n",
              "      <td>0.053006</td>\n",
              "      <td>0.430819</td>\n",
              "      <td>0.286966</td>\n",
              "      <td>0.078637</td>\n",
              "      <td>0.078583</td>\n",
              "      <td>0.305873</td>\n",
              "    </tr>\n",
              "    <tr>\n",
              "      <th>Zona Sul</th>\n",
              "      <td>-0.014551</td>\n",
              "      <td>0.039735</td>\n",
              "      <td>-0.034737</td>\n",
              "      <td>-0.030904</td>\n",
              "      <td>-0.104489</td>\n",
              "      <td>-0.163686</td>\n",
              "      <td>0.007113</td>\n",
              "      <td>0.014395</td>\n",
              "      <td>-0.088335</td>\n",
              "      <td>-0.311630</td>\n",
              "      <td>...</td>\n",
              "      <td>-0.301658</td>\n",
              "      <td>-0.083639</td>\n",
              "      <td>-0.409041</td>\n",
              "      <td>-0.177820</td>\n",
              "      <td>-0.045023</td>\n",
              "      <td>-0.359033</td>\n",
              "      <td>-0.279384</td>\n",
              "      <td>-0.038803</td>\n",
              "      <td>-0.070585</td>\n",
              "      <td>-0.317993</td>\n",
              "    </tr>\n",
              "    <tr>\n",
              "      <th>Academia</th>\n",
              "      <td>0.064111</td>\n",
              "      <td>0.001997</td>\n",
              "      <td>0.079297</td>\n",
              "      <td>0.061307</td>\n",
              "      <td>0.242630</td>\n",
              "      <td>0.139843</td>\n",
              "      <td>0.014311</td>\n",
              "      <td>0.003353</td>\n",
              "      <td>0.043132</td>\n",
              "      <td>-0.120985</td>\n",
              "      <td>...</td>\n",
              "      <td>1.000000</td>\n",
              "      <td>0.410868</td>\n",
              "      <td>0.676222</td>\n",
              "      <td>0.591755</td>\n",
              "      <td>0.455411</td>\n",
              "      <td>0.748366</td>\n",
              "      <td>0.671441</td>\n",
              "      <td>0.493951</td>\n",
              "      <td>0.417784</td>\n",
              "      <td>0.693806</td>\n",
              "    </tr>\n",
              "    <tr>\n",
              "      <th>Animais permitidos</th>\n",
              "      <td>0.101640</td>\n",
              "      <td>-0.013000</td>\n",
              "      <td>-0.024390</td>\n",
              "      <td>-0.021058</td>\n",
              "      <td>0.065539</td>\n",
              "      <td>0.038555</td>\n",
              "      <td>0.012585</td>\n",
              "      <td>-0.001878</td>\n",
              "      <td>0.055134</td>\n",
              "      <td>-0.026065</td>\n",
              "      <td>...</td>\n",
              "      <td>0.410868</td>\n",
              "      <td>1.000000</td>\n",
              "      <td>0.310759</td>\n",
              "      <td>0.627451</td>\n",
              "      <td>0.465416</td>\n",
              "      <td>0.303905</td>\n",
              "      <td>0.344096</td>\n",
              "      <td>0.671686</td>\n",
              "      <td>0.687906</td>\n",
              "      <td>0.389203</td>\n",
              "    </tr>\n",
              "    <tr>\n",
              "      <th>Churrasqueira</th>\n",
              "      <td>0.045769</td>\n",
              "      <td>-0.024051</td>\n",
              "      <td>0.042792</td>\n",
              "      <td>0.061462</td>\n",
              "      <td>0.185553</td>\n",
              "      <td>0.131505</td>\n",
              "      <td>0.005712</td>\n",
              "      <td>-0.003081</td>\n",
              "      <td>0.001724</td>\n",
              "      <td>-0.051152</td>\n",
              "      <td>...</td>\n",
              "      <td>0.676222</td>\n",
              "      <td>0.310759</td>\n",
              "      <td>1.000000</td>\n",
              "      <td>0.475334</td>\n",
              "      <td>0.380601</td>\n",
              "      <td>0.752218</td>\n",
              "      <td>0.627252</td>\n",
              "      <td>0.372363</td>\n",
              "      <td>0.316282</td>\n",
              "      <td>0.647823</td>\n",
              "    </tr>\n",
              "    <tr>\n",
              "      <th>Condomínio fechado</th>\n",
              "      <td>0.091707</td>\n",
              "      <td>-0.012606</td>\n",
              "      <td>-0.005238</td>\n",
              "      <td>-0.000314</td>\n",
              "      <td>0.139081</td>\n",
              "      <td>0.079485</td>\n",
              "      <td>0.012319</td>\n",
              "      <td>-0.005234</td>\n",
              "      <td>0.047391</td>\n",
              "      <td>-0.089705</td>\n",
              "      <td>...</td>\n",
              "      <td>0.591755</td>\n",
              "      <td>0.627451</td>\n",
              "      <td>0.475334</td>\n",
              "      <td>1.000000</td>\n",
              "      <td>0.523484</td>\n",
              "      <td>0.493581</td>\n",
              "      <td>0.480831</td>\n",
              "      <td>0.696255</td>\n",
              "      <td>0.682767</td>\n",
              "      <td>0.514101</td>\n",
              "    </tr>\n",
              "    <tr>\n",
              "      <th>Elevador</th>\n",
              "      <td>0.071985</td>\n",
              "      <td>0.016841</td>\n",
              "      <td>0.057131</td>\n",
              "      <td>0.025627</td>\n",
              "      <td>0.120022</td>\n",
              "      <td>0.061370</td>\n",
              "      <td>0.013392</td>\n",
              "      <td>0.006515</td>\n",
              "      <td>0.038072</td>\n",
              "      <td>-0.027810</td>\n",
              "      <td>...</td>\n",
              "      <td>0.455411</td>\n",
              "      <td>0.465416</td>\n",
              "      <td>0.380601</td>\n",
              "      <td>0.523484</td>\n",
              "      <td>1.000000</td>\n",
              "      <td>0.411537</td>\n",
              "      <td>0.418379</td>\n",
              "      <td>0.518358</td>\n",
              "      <td>0.481388</td>\n",
              "      <td>0.430770</td>\n",
              "    </tr>\n",
              "    <tr>\n",
              "      <th>Piscina</th>\n",
              "      <td>0.043555</td>\n",
              "      <td>0.018125</td>\n",
              "      <td>0.099209</td>\n",
              "      <td>0.082699</td>\n",
              "      <td>0.263923</td>\n",
              "      <td>0.170348</td>\n",
              "      <td>0.010022</td>\n",
              "      <td>0.002496</td>\n",
              "      <td>0.013571</td>\n",
              "      <td>-0.133985</td>\n",
              "      <td>...</td>\n",
              "      <td>0.748366</td>\n",
              "      <td>0.303905</td>\n",
              "      <td>0.752218</td>\n",
              "      <td>0.493581</td>\n",
              "      <td>0.411537</td>\n",
              "      <td>1.000000</td>\n",
              "      <td>0.644930</td>\n",
              "      <td>0.387328</td>\n",
              "      <td>0.318242</td>\n",
              "      <td>0.654049</td>\n",
              "    </tr>\n",
              "    <tr>\n",
              "      <th>Playground</th>\n",
              "      <td>0.053728</td>\n",
              "      <td>-0.015760</td>\n",
              "      <td>0.066366</td>\n",
              "      <td>0.077723</td>\n",
              "      <td>0.188921</td>\n",
              "      <td>0.133452</td>\n",
              "      <td>0.009576</td>\n",
              "      <td>0.000790</td>\n",
              "      <td>-0.003139</td>\n",
              "      <td>-0.036614</td>\n",
              "      <td>...</td>\n",
              "      <td>0.671441</td>\n",
              "      <td>0.344096</td>\n",
              "      <td>0.627252</td>\n",
              "      <td>0.480831</td>\n",
              "      <td>0.418379</td>\n",
              "      <td>0.644930</td>\n",
              "      <td>1.000000</td>\n",
              "      <td>0.426755</td>\n",
              "      <td>0.355339</td>\n",
              "      <td>0.738263</td>\n",
              "    </tr>\n",
              "    <tr>\n",
              "      <th>Portaria 24h</th>\n",
              "      <td>0.089665</td>\n",
              "      <td>-0.024467</td>\n",
              "      <td>-0.034960</td>\n",
              "      <td>-0.022521</td>\n",
              "      <td>0.079988</td>\n",
              "      <td>0.034900</td>\n",
              "      <td>0.011997</td>\n",
              "      <td>-0.001196</td>\n",
              "      <td>0.049465</td>\n",
              "      <td>-0.072619</td>\n",
              "      <td>...</td>\n",
              "      <td>0.493951</td>\n",
              "      <td>0.671686</td>\n",
              "      <td>0.372363</td>\n",
              "      <td>0.696255</td>\n",
              "      <td>0.518358</td>\n",
              "      <td>0.387328</td>\n",
              "      <td>0.426755</td>\n",
              "      <td>1.000000</td>\n",
              "      <td>0.783286</td>\n",
              "      <td>0.458586</td>\n",
              "    </tr>\n",
              "    <tr>\n",
              "      <th>Portão eletrônico</th>\n",
              "      <td>0.083432</td>\n",
              "      <td>-0.002129</td>\n",
              "      <td>-0.016546</td>\n",
              "      <td>-0.015703</td>\n",
              "      <td>0.089574</td>\n",
              "      <td>0.046257</td>\n",
              "      <td>0.006180</td>\n",
              "      <td>-0.004486</td>\n",
              "      <td>0.043298</td>\n",
              "      <td>-0.032144</td>\n",
              "      <td>...</td>\n",
              "      <td>0.417784</td>\n",
              "      <td>0.687906</td>\n",
              "      <td>0.316282</td>\n",
              "      <td>0.682767</td>\n",
              "      <td>0.481388</td>\n",
              "      <td>0.318242</td>\n",
              "      <td>0.355339</td>\n",
              "      <td>0.783286</td>\n",
              "      <td>1.000000</td>\n",
              "      <td>0.385214</td>\n",
              "    </tr>\n",
              "    <tr>\n",
              "      <th>Salão de festas</th>\n",
              "      <td>0.058616</td>\n",
              "      <td>-0.026909</td>\n",
              "      <td>0.055917</td>\n",
              "      <td>0.060820</td>\n",
              "      <td>0.173720</td>\n",
              "      <td>0.133180</td>\n",
              "      <td>0.009138</td>\n",
              "      <td>0.001124</td>\n",
              "      <td>0.008493</td>\n",
              "      <td>-0.018691</td>\n",
              "      <td>...</td>\n",
              "      <td>0.693806</td>\n",
              "      <td>0.389203</td>\n",
              "      <td>0.647823</td>\n",
              "      <td>0.514101</td>\n",
              "      <td>0.430770</td>\n",
              "      <td>0.654049</td>\n",
              "      <td>0.738263</td>\n",
              "      <td>0.458586</td>\n",
              "      <td>0.385214</td>\n",
              "      <td>1.000000</td>\n",
              "    </tr>\n",
              "  </tbody>\n",
              "</table>\n",
              "<p>22 rows × 22 columns</p>\n",
              "</div>\n",
              "      <button class=\"colab-df-convert\" onclick=\"convertToInteractive('df-754973ca-70d7-43dd-ab8d-ef0879897f56')\"\n",
              "              title=\"Convert this dataframe to an interactive table.\"\n",
              "              style=\"display:none;\">\n",
              "        \n",
              "  <svg xmlns=\"http://www.w3.org/2000/svg\" height=\"24px\"viewBox=\"0 0 24 24\"\n",
              "       width=\"24px\">\n",
              "    <path d=\"M0 0h24v24H0V0z\" fill=\"none\"/>\n",
              "    <path d=\"M18.56 5.44l.94 2.06.94-2.06 2.06-.94-2.06-.94-.94-2.06-.94 2.06-2.06.94zm-11 1L8.5 8.5l.94-2.06 2.06-.94-2.06-.94L8.5 2.5l-.94 2.06-2.06.94zm10 10l.94 2.06.94-2.06 2.06-.94-2.06-.94-.94-2.06-.94 2.06-2.06.94z\"/><path d=\"M17.41 7.96l-1.37-1.37c-.4-.4-.92-.59-1.43-.59-.52 0-1.04.2-1.43.59L10.3 9.45l-7.72 7.72c-.78.78-.78 2.05 0 2.83L4 21.41c.39.39.9.59 1.41.59.51 0 1.02-.2 1.41-.59l7.78-7.78 2.81-2.81c.8-.78.8-2.07 0-2.86zM5.41 20L4 18.59l7.72-7.72 1.47 1.35L5.41 20z\"/>\n",
              "  </svg>\n",
              "      </button>\n",
              "      \n",
              "  <style>\n",
              "    .colab-df-container {\n",
              "      display:flex;\n",
              "      flex-wrap:wrap;\n",
              "      gap: 12px;\n",
              "    }\n",
              "\n",
              "    .colab-df-convert {\n",
              "      background-color: #E8F0FE;\n",
              "      border: none;\n",
              "      border-radius: 50%;\n",
              "      cursor: pointer;\n",
              "      display: none;\n",
              "      fill: #1967D2;\n",
              "      height: 32px;\n",
              "      padding: 0 0 0 0;\n",
              "      width: 32px;\n",
              "    }\n",
              "\n",
              "    .colab-df-convert:hover {\n",
              "      background-color: #E2EBFA;\n",
              "      box-shadow: 0px 1px 2px rgba(60, 64, 67, 0.3), 0px 1px 3px 1px rgba(60, 64, 67, 0.15);\n",
              "      fill: #174EA6;\n",
              "    }\n",
              "\n",
              "    [theme=dark] .colab-df-convert {\n",
              "      background-color: #3B4455;\n",
              "      fill: #D2E3FC;\n",
              "    }\n",
              "\n",
              "    [theme=dark] .colab-df-convert:hover {\n",
              "      background-color: #434B5C;\n",
              "      box-shadow: 0px 1px 3px 1px rgba(0, 0, 0, 0.15);\n",
              "      filter: drop-shadow(0px 1px 2px rgba(0, 0, 0, 0.3));\n",
              "      fill: #FFFFFF;\n",
              "    }\n",
              "  </style>\n",
              "\n",
              "      <script>\n",
              "        const buttonEl =\n",
              "          document.querySelector('#df-754973ca-70d7-43dd-ab8d-ef0879897f56 button.colab-df-convert');\n",
              "        buttonEl.style.display =\n",
              "          google.colab.kernel.accessAllowed ? 'block' : 'none';\n",
              "\n",
              "        async function convertToInteractive(key) {\n",
              "          const element = document.querySelector('#df-754973ca-70d7-43dd-ab8d-ef0879897f56');\n",
              "          const dataTable =\n",
              "            await google.colab.kernel.invokeFunction('convertToInteractive',\n",
              "                                                     [key], {});\n",
              "          if (!dataTable) return;\n",
              "\n",
              "          const docLinkHtml = 'Like what you see? Visit the ' +\n",
              "            '<a target=\"_blank\" href=https://colab.research.google.com/notebooks/data_table.ipynb>data table notebook</a>'\n",
              "            + ' to learn more about interactive tables.';\n",
              "          element.innerHTML = '';\n",
              "          dataTable['output_type'] = 'display_data';\n",
              "          await google.colab.output.renderOutput(dataTable, element);\n",
              "          const docLink = document.createElement('div');\n",
              "          docLink.innerHTML = docLinkHtml;\n",
              "          element.appendChild(docLink);\n",
              "        }\n",
              "      </script>\n",
              "    </div>\n",
              "  </div>\n",
              "  "
            ]
          },
          "metadata": {},
          "execution_count": 40
        }
      ]
    },
    {
      "cell_type": "code",
      "source": [
        "import matplotlib.pyplot as plt\n",
        "import seaborn as sns"
      ],
      "metadata": {
        "id": "pZGXlbQCDR12"
      },
      "execution_count": 41,
      "outputs": []
    },
    {
      "cell_type": "code",
      "source": [
        "plt.figure(figsize=(12,10))\n",
        "paleta = sns.color_palette(\"light:salmon\", as_cmap=True)\n",
        "sns.heatmap(dataframe_correlacao.round(1), annot=True, cmap=paleta)"
      ],
      "metadata": {
        "id": "N5Z_SY2PDWgU",
        "outputId": "ab12f5d1-77c6-4c65-e7f4-d3f94cbbd05d",
        "colab": {
          "base_uri": "https://localhost:8080/",
          "height": 705
        }
      },
      "execution_count": 42,
      "outputs": [
        {
          "output_type": "execute_result",
          "data": {
            "text/plain": [
              "<matplotlib.axes._subplots.AxesSubplot at 0x7f4cf44a0190>"
            ]
          },
          "metadata": {},
          "execution_count": 42
        },
        {
          "output_type": "display_data",
          "data": {
            "text/plain": [
              "<Figure size 864x720 with 2 Axes>"
            ],
            "image/png": "[encoded data removed]"
          },
          "metadata": {
            "needs_background": "light"
          }
        }
      ]
    },
    {
      "cell_type": "markdown",
      "source": [
        "## **Criação dos modelos de regressão**"
      ],
      "metadata": {
        "id": "eUfmJM2FDtV7"
      }
    },
    {
      "cell_type": "code",
      "source": [
        "from pyspark.ml.regression import LinearRegression"
      ],
      "metadata": {
        "id": "ZeDzOzGHDZcz"
      },
      "execution_count": 43,
      "outputs": []
    },
    {
      "cell_type": "code",
      "source": [
        "treino, teste = dataset_prep.randomSplit([0.7, 0.3], seed=101)"
      ],
      "metadata": {
        "id": "jsM3rHq1DxD8"
      },
      "execution_count": 44,
      "outputs": []
    },
    {
      "cell_type": "code",
      "source": [
        "treino.count()"
      ],
      "metadata": {
        "id": "eF5kfmg_DzsG",
        "outputId": "c03b61aa-c1e0-4e2b-c001-b83ffcc8e0c1",
        "colab": {
          "base_uri": "https://localhost:8080/"
        }
      },
      "execution_count": 45,
      "outputs": [
        {
          "output_type": "execute_result",
          "data": {
            "text/plain": [
              "46492"
            ]
          },
          "metadata": {},
          "execution_count": 45
        }
      ]
    },
    {
      "cell_type": "code",
      "source": [
        "teste.count()"
      ],
      "metadata": {
        "id": "3exs57h5D1rM",
        "outputId": "50801d3f-07af-45ec-b994-55fa7dfc81bd",
        "colab": {
          "base_uri": "https://localhost:8080/"
        }
      },
      "execution_count": 46,
      "outputs": [
        {
          "output_type": "execute_result",
          "data": {
            "text/plain": [
              "20059"
            ]
          },
          "metadata": {},
          "execution_count": 46
        }
      ]
    },
    {
      "cell_type": "code",
      "source": [
        "lr = LinearRegression()\n",
        "\n",
        "modelo_lr = lr.fit(treino)\n",
        "\n",
        "previsoes_lr_treino = modelo_lr.transform(treino)\n",
        "\n",
        "previsoes_lr_treino.show()"
      ],
      "metadata": {
        "id": "VVN5sy0BD2zY",
        "outputId": "47931001-7353-47b4-c87b-037956324cb8",
        "colab": {
          "base_uri": "https://localhost:8080/"
        }
      },
      "execution_count": 47,
      "outputs": [
        {
          "output_type": "stream",
          "name": "stdout",
          "text": [
            "+--------------------+---------+------------------+\n",
            "|            features|    label|        prediction|\n",
            "+--------------------+---------+------------------+\n",
            "|(22,[0,1,2,3,4,5,...| 445000.0| 698000.9989766502|\n",
            "|(22,[0,1,2,3,4,5,...| 539000.0| 687687.7345221221|\n",
            "|(22,[0,1,2,3,4,5,...| 262000.0| 773507.6602998237|\n",
            "|(22,[0,1,2,3,4,5,...| 460000.0|255542.23532021226|\n",
            "|(22,[0,1,2,3,4,5,...| 540000.0| 566899.6456831973|\n",
            "|(22,[0,1,2,3,4,5,...|1047795.0| 671820.1002421915|\n",
            "|(22,[0,1,2,3,4,5,...| 750000.0| 776164.8783146474|\n",
            "|(22,[0,1,2,3,4,5,...| 795000.0|1021570.9164080797|\n",
            "|(22,[0,1,2,3,4,5,...| 391000.0| 340617.4164378091|\n",
            "|(22,[0,1,2,3,4,5,...| 473400.0| 463825.3932716036|\n",
            "|(22,[0,1,2,3,4,5,...| 659900.0|473096.21000072174|\n",
            "|(22,[0,1,2,3,4,5,...| 797204.0| 510947.2938758393|\n",
            "|(22,[0,1,2,3,4,5,...| 499000.0| 765800.4226316279|\n",
            "|(22,[0,1,2,3,4,5,...| 550000.0|1116040.3574794577|\n",
            "|(22,[0,1,2,3,4,5,...|1400000.0|2119974.7634204626|\n",
            "|(22,[0,1,2,3,4,5,...|2450000.0| 4262481.370301757|\n",
            "|(22,[0,1,2,3,4,5,...| 580000.0|  599046.018159678|\n",
            "|(22,[0,1,2,3,4,5,...| 550000.0| 798638.8064652244|\n",
            "|(22,[0,1,2,3,4,5,...| 689500.0|  823282.218966526|\n",
            "|(22,[0,1,2,3,4,5,...| 980000.0|1497051.8157363767|\n",
            "+--------------------+---------+------------------+\n",
            "only showing top 20 rows\n",
            "\n"
          ]
        }
      ]
    },
    {
      "cell_type": "markdown",
      "source": [
        "## **Avaliação dos modelos**"
      ],
      "metadata": {
        "id": "wB0UZfoREPr7"
      }
    },
    {
      "cell_type": "code",
      "source": [
        "resumo_treino = modelo_lr.summary"
      ],
      "metadata": {
        "id": "vCAkrCuLEDU3"
      },
      "execution_count": 48,
      "outputs": []
    },
    {
      "cell_type": "code",
      "source": [
        "resumo_treino.r2"
      ],
      "metadata": {
        "id": "X54VyFrzEVud",
        "outputId": "c99dc98d-c7cd-4db3-de75-2850096c4774",
        "colab": {
          "base_uri": "https://localhost:8080/"
        }
      },
      "execution_count": 49,
      "outputs": [
        {
          "output_type": "execute_result",
          "data": {
            "text/plain": [
              "0.6635367027307726"
            ]
          },
          "metadata": {},
          "execution_count": 49
        }
      ]
    },
    {
      "cell_type": "code",
      "source": [
        "resumo_treino.rootMeanSquaredError"
      ],
      "metadata": {
        "id": "m_RIwQ76EXJG",
        "outputId": "241be9d5-bae7-45b7-da4e-9aa80b576e05",
        "colab": {
          "base_uri": "https://localhost:8080/"
        }
      },
      "execution_count": 50,
      "outputs": [
        {
          "output_type": "execute_result",
          "data": {
            "text/plain": [
              "855723.1693553913"
            ]
          },
          "metadata": {},
          "execution_count": 50
        }
      ]
    },
    {
      "cell_type": "code",
      "source": [
        "resumo_teste = modelo_lr.evaluate(teste)"
      ],
      "metadata": {
        "id": "ITtvD11AEYyH"
      },
      "execution_count": 51,
      "outputs": []
    },
    {
      "cell_type": "code",
      "source": [
        "resumo_teste.r2"
      ],
      "metadata": {
        "id": "MJv_JZb7Eacv",
        "outputId": "5f3deb74-1bde-4010-a996-141c76d62e87",
        "colab": {
          "base_uri": "https://localhost:8080/"
        }
      },
      "execution_count": 52,
      "outputs": [
        {
          "output_type": "execute_result",
          "data": {
            "text/plain": [
              "0.6698487129866729"
            ]
          },
          "metadata": {},
          "execution_count": 52
        }
      ]
    },
    {
      "cell_type": "code",
      "source": [
        "resumo_teste.rootMeanSquaredError"
      ],
      "metadata": {
        "id": "dI9TRJNVEdKg",
        "outputId": "22a7b33e-fe75-4c8f-dac6-104adcd83ba1",
        "colab": {
          "base_uri": "https://localhost:8080/"
        }
      },
      "execution_count": 53,
      "outputs": [
        {
          "output_type": "execute_result",
          "data": {
            "text/plain": [
              "841041.7912415836"
            ]
          },
          "metadata": {},
          "execution_count": 53
        }
      ]
    },
    {
      "cell_type": "code",
      "source": [
        "print('Linear Regression')\n",
        "print(\"=\"*30)\n",
        "print(\"Dados de Treino\")\n",
        "print(\"=\"*30)\n",
        "print(\"R²: %f\" % resumo_treino.r2)\n",
        "print(\"RMSE: %f\" % resumo_treino.rootMeanSquaredError)\n",
        "print(\"\")\n",
        "print(\"=\"*30)\n",
        "print(\"Dados de Teste\")\n",
        "print(\"=\"*30)\n",
        "print(\"R²: %f\" % resumo_teste.r2)\n",
        "print(\"RMSE: %f\" % resumo_teste.rootMeanSquaredError)"
      ],
      "metadata": {
        "id": "dSHssavKEe5r",
        "outputId": "0744e9ca-e596-43b7-b977-d43efdb2a3ae",
        "colab": {
          "base_uri": "https://localhost:8080/"
        }
      },
      "execution_count": 54,
      "outputs": [
        {
          "output_type": "stream",
          "name": "stdout",
          "text": [
            "Linear Regression\n",
            "==============================\n",
            "Dados de Treino\n",
            "==============================\n",
            "R²: 0.663537\n",
            "RMSE: 855723.169355\n",
            "\n",
            "==============================\n",
            "Dados de Teste\n",
            "==============================\n",
            "R²: 0.669849\n",
            "RMSE: 841041.791242\n"
          ]
        }
      ]
    },
    {
      "cell_type": "markdown",
      "source": [
        "## **Criando outro modelo de regressão**"
      ],
      "metadata": {
        "id": "MfVvCG1tHRHX"
      }
    },
    {
      "cell_type": "code",
      "source": [
        "from pyspark.ml.regression import GBTRegressor\n",
        "from pyspark.ml.evaluation import RegressionEvaluator"
      ],
      "metadata": {
        "id": "uZgxo-KPHRXO"
      },
      "execution_count": 74,
      "outputs": []
    },
    {
      "cell_type": "code",
      "source": [
        "gbt = GBTRegressor(maxDepth=7, seed=101)"
      ],
      "metadata": {
        "id": "XZxihRsfHdng"
      },
      "execution_count": 60,
      "outputs": []
    },
    {
      "cell_type": "code",
      "source": [
        "modelo_gbt = gbt.fit(treino)"
      ],
      "metadata": {
        "id": "Uz21E2sjH5vc"
      },
      "execution_count": 61,
      "outputs": []
    },
    {
      "cell_type": "code",
      "source": [
        "previsoes_gbt_treino = modelo_gbt.transform(treino)"
      ],
      "metadata": {
        "id": "C4FaLvlIINLR"
      },
      "execution_count": 62,
      "outputs": []
    },
    {
      "cell_type": "code",
      "source": [
        "previsoes_gbt_treino.show()"
      ],
      "metadata": {
        "id": "L3STxb2zIRYe",
        "outputId": "15e9fb99-7e87-4b67-e11d-e9414e3ed98b",
        "colab": {
          "base_uri": "https://localhost:8080/"
        }
      },
      "execution_count": 63,
      "outputs": [
        {
          "output_type": "stream",
          "name": "stdout",
          "text": [
            "+--------------------+---------+------------------+\n",
            "|            features|    label|        prediction|\n",
            "+--------------------+---------+------------------+\n",
            "|(22,[0,1,2,3,4,5,...| 445000.0|360901.07434916083|\n",
            "|(22,[0,1,2,3,4,5,...| 539000.0|343556.51655154536|\n",
            "|(22,[0,1,2,3,4,5,...| 262000.0|518572.64272107196|\n",
            "|(22,[0,1,2,3,4,5,...| 460000.0| 339163.1762975065|\n",
            "|(22,[0,1,2,3,4,5,...| 540000.0| 723907.7540204101|\n",
            "|(22,[0,1,2,3,4,5,...|1047795.0| 732898.1658348973|\n",
            "|(22,[0,1,2,3,4,5,...| 750000.0| 658255.0302956625|\n",
            "|(22,[0,1,2,3,4,5,...| 795000.0| 666639.0738967559|\n",
            "|(22,[0,1,2,3,4,5,...| 391000.0|  349401.817246812|\n",
            "|(22,[0,1,2,3,4,5,...| 473400.0|402096.11941523134|\n",
            "|(22,[0,1,2,3,4,5,...| 659900.0| 676174.0939673113|\n",
            "|(22,[0,1,2,3,4,5,...| 797204.0| 676174.0939673113|\n",
            "|(22,[0,1,2,3,4,5,...| 499000.0| 636606.2544371673|\n",
            "|(22,[0,1,2,3,4,5,...| 550000.0| 653534.7872111878|\n",
            "|(22,[0,1,2,3,4,5,...|1400000.0|1181344.2914634168|\n",
            "|(22,[0,1,2,3,4,5,...|2450000.0| 2216903.151239618|\n",
            "|(22,[0,1,2,3,4,5,...| 580000.0|522994.67629831994|\n",
            "|(22,[0,1,2,3,4,5,...| 550000.0| 625283.3385633759|\n",
            "|(22,[0,1,2,3,4,5,...| 689500.0| 621675.0493397568|\n",
            "|(22,[0,1,2,3,4,5,...| 980000.0| 959960.6334003105|\n",
            "+--------------------+---------+------------------+\n",
            "only showing top 20 rows\n",
            "\n"
          ]
        }
      ]
    },
    {
      "cell_type": "markdown",
      "source": [
        "## Avaliação do novo modelo"
      ],
      "metadata": {
        "id": "-hSz9zLnIeUS"
      }
    },
    {
      "cell_type": "code",
      "source": [
        "evaluator = RegressionEvaluator()\n",
        "\n",
        "print(evaluator.evaluate(previsoes_gbt_treino, {evaluator.metricName: \"r2\"}))\n",
        "print(evaluator.evaluate(previsoes_gbt_treino, {evaluator.metricName: \"rmse\"}))"
      ],
      "metadata": {
        "id": "Bb9vb6I1IhEA",
        "outputId": "11f74d12-7d8a-486f-ae43-c379e135557a",
        "colab": {
          "base_uri": "https://localhost:8080/"
        }
      },
      "execution_count": 64,
      "outputs": [
        {
          "output_type": "stream",
          "name": "stdout",
          "text": [
            "0.8643466851437421\n",
            "543349.9708206207\n"
          ]
        }
      ]
    },
    {
      "cell_type": "code",
      "source": [
        "previsoes_gbt_teste = modelo_gbt.transform(teste)"
      ],
      "metadata": {
        "id": "kxncsS5BIyll"
      },
      "execution_count": 65,
      "outputs": []
    },
    {
      "cell_type": "code",
      "source": [
        "previsoes_gbt_teste.show()"
      ],
      "metadata": {
        "id": "E4IojysRI3HM",
        "outputId": "46b11139-2042-4251-eeb9-cb1bb5bc99e6",
        "colab": {
          "base_uri": "https://localhost:8080/"
        }
      },
      "execution_count": 66,
      "outputs": [
        {
          "output_type": "stream",
          "name": "stdout",
          "text": [
            "+--------------------+---------+------------------+\n",
            "|            features|    label|        prediction|\n",
            "+--------------------+---------+------------------+\n",
            "|(22,[0,1,2,3,4,5,...| 349000.0|339987.12208769395|\n",
            "|(22,[0,1,2,3,4,5,...| 400000.0| 391793.0979233279|\n",
            "|(22,[0,1,2,3,4,5,...| 318000.0|516776.35634886584|\n",
            "|(22,[0,1,2,3,4,5,...| 335000.0|  534123.401593787|\n",
            "|(22,[0,1,2,3,4,5,...| 950000.0| 795208.0643592149|\n",
            "|(22,[0,1,2,3,4,5,...|1250000.0|1842371.9719201133|\n",
            "|(22,[0,1,2,3,4,5,...| 355000.0|  349401.817246812|\n",
            "|(22,[0,1,2,3,4,5,...| 300000.0| 505503.1770978189|\n",
            "|(22,[0,1,2,3,4,5,...|1540000.0|1394159.8287766934|\n",
            "|(22,[0,1,2,3,4,5,...| 290000.0|490642.09431872884|\n",
            "|(22,[0,1,2,3,4,5,...| 750000.0| 621377.4337782311|\n",
            "|(22,[0,1,2,3,4,5,...| 852288.0| 676174.0939673113|\n",
            "|(22,[0,1,2,3,4,5,...| 940000.0| 675668.4421825217|\n",
            "|(22,[0,1,2,3,4,5,...| 650000.0| 769828.2584433972|\n",
            "|(22,[0,1,2,3,4,5,...| 750000.0|368409.50464247225|\n",
            "|(22,[0,1,2,3,4,5,...| 650000.0| 543113.8134082743|\n",
            "|(22,[0,1,2,3,4,5,...| 580000.0| 633133.5596226817|\n",
            "|(22,[0,1,2,3,4,5,...|1350000.0|1540251.3318349367|\n",
            "|(22,[0,1,2,3,4,5,...| 730000.0| 630341.8614680307|\n",
            "|(22,[0,1,2,3,4,5,...| 816000.0| 761535.0952692523|\n",
            "+--------------------+---------+------------------+\n",
            "only showing top 20 rows\n",
            "\n"
          ]
        }
      ]
    },
    {
      "cell_type": "code",
      "source": [
        "print('GBT Regressor')\n",
        "print(\"=\"*30)\n",
        "print(\"Dados de Treino\")\n",
        "print(\"=\"*30)\n",
        "print(\"R²: %f\" % evaluator.evaluate(previsoes_gbt_treino, {evaluator.metricName: \"r2\"}))\n",
        "print(\"RMSE: %f\" % evaluator.evaluate(previsoes_gbt_treino, {evaluator.metricName: \"rmse\"}))\n",
        "print(\"\")\n",
        "print(\"=\"*30)\n",
        "print(\"Dados de Teste\")\n",
        "print(\"=\"*30)\n",
        "print(\"R²: %f\" % evaluator.evaluate(previsoes_gbt_teste, {evaluator.metricName: \"r2\"}))\n",
        "print(\"RMSE: %f\" % evaluator.evaluate(previsoes_gbt_teste, {evaluator.metricName: \"rmse\"}))"
      ],
      "metadata": {
        "id": "lreja41AI6gO",
        "outputId": "93226493-a989-4cb8-c729-a6110d50a8fb",
        "colab": {
          "base_uri": "https://localhost:8080/"
        }
      },
      "execution_count": 67,
      "outputs": [
        {
          "output_type": "stream",
          "name": "stdout",
          "text": [
            "GBT Regressor\n",
            "==============================\n",
            "Dados de Treino\n",
            "==============================\n",
            "R²: 0.864347\n",
            "RMSE: 543349.970821\n",
            "\n",
            "==============================\n",
            "Dados de Teste\n",
            "==============================\n",
            "R²: 0.812637\n",
            "RMSE: 633581.410706\n"
          ]
        }
      ]
    },
    {
      "cell_type": "markdown",
      "source": [
        "## **Otimização de hiperparâmetros**"
      ],
      "metadata": {
        "id": "NbR3mG3iF7BV"
      }
    },
    {
      "cell_type": "code",
      "source": [
        "from pyspark.ml.tuning import CrossValidator, ParamGridBuilder"
      ],
      "metadata": {
        "id": "9QT0wwdCEjBD"
      },
      "execution_count": 55,
      "outputs": []
    },
    {
      "cell_type": "code",
      "source": [
        "gbt = GBTRegressor()"
      ],
      "metadata": {
        "id": "rwD80uhbGdyz"
      },
      "execution_count": 68,
      "outputs": []
    },
    {
      "cell_type": "code",
      "source": [
        "grid = ParamGridBuilder() \\\n",
        "    .addGrid(gbt.maxDepth, [2, 5, 10]) \\\n",
        "    .addGrid(gbt.maxBins, [10, 32, 45]) \\\n",
        "    .build()"
      ],
      "metadata": {
        "id": "1K5BlbV8Gntb"
      },
      "execution_count": 69,
      "outputs": []
    },
    {
      "cell_type": "code",
      "source": [
        "gbt_cv = CrossValidator(\n",
        "    estimator=gbt,\n",
        "    estimatorParamMaps=grid,\n",
        "    evaluator=evaluator,\n",
        "    numFolds=3,\n",
        "    seed = 101\n",
        "    )"
      ],
      "metadata": {
        "id": "W777RZPlGwSi"
      },
      "execution_count": 70,
      "outputs": []
    },
    {
      "cell_type": "code",
      "source": [
        "modelo_gbtt_cv = gbt_cv.fit(treino)"
      ],
      "metadata": {
        "id": "2V8Rl2SiJbaM"
      },
      "execution_count": 71,
      "outputs": []
    },
    {
      "cell_type": "code",
      "source": [
        "previsoes_gbt_cv_teste = modelo_gbtt_cv.transform(teste)"
      ],
      "metadata": {
        "id": "5UR3jJ8kJe4I"
      },
      "execution_count": 72,
      "outputs": []
    },
    {
      "cell_type": "code",
      "source": [
        "print('GBT Regressor')\n",
        "print(\"=\"*30)\n",
        "print(\"Sem Cross Validation\")\n",
        "print(\"=\"*30)\n",
        "print(\"R²: %f\" % evaluator.evaluate(previsoes_gbt_teste, {evaluator.metricName: \"r2\"}))\n",
        "print(\"RMSE: %f\" % evaluator.evaluate(previsoes_gbt_teste, {evaluator.metricName: \"rmse\"}))\n",
        "print(\"\")\n",
        "print(\"=\"*30)\n",
        "print(\"Com Cross Validation\")\n",
        "print(\"=\"*30)\n",
        "print(\"R²: %f\" % evaluator.evaluate(previsoes_gbt_cv_teste, {evaluator.metricName: \"r2\"}))\n",
        "print(\"RMSE: %f\" % evaluator.evaluate(previsoes_gbt_cv_teste, {evaluator.metricName: \"rmse\"}))"
      ],
      "metadata": {
        "id": "-EhxTch5JlEs",
        "outputId": "0ee50658-d4f2-47d7-9504-324a50715e0f",
        "colab": {
          "base_uri": "https://localhost:8080/"
        }
      },
      "execution_count": 73,
      "outputs": [
        {
          "output_type": "stream",
          "name": "stdout",
          "text": [
            "GBT Regressor\n",
            "==============================\n",
            "Sem Cross Validation\n",
            "==============================\n",
            "R²: 0.812637\n",
            "RMSE: 633581.410706\n",
            "\n",
            "==============================\n",
            "Com Cross Validation\n",
            "==============================\n",
            "R²: 0.806234\n",
            "RMSE: 644317.377760\n"
          ]
        }
      ]
    }
  ]
}