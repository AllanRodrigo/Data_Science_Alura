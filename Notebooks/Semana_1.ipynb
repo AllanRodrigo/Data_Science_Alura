{
  "nbformat": 4,
  "nbformat_minor": 0,
  "metadata": {
    "colab": {
      "provenance": [],
      "collapsed_sections": [
        "7058M8H6qnJQ"
      ],
      "mount_file_id": "1q78YVAPg0_qeJHYIak1rVZXU2b4ml7Vz",
      "authorship_tag": "ABX9TyNx4WTuy3Z4TvHlVnyxDPsf",
      "include_colab_link": true
    },
    "kernelspec": {
      "name": "python3",
      "display_name": "Python 3"
    },
    "language_info": {
      "name": "python"
    }
  },
  "cells": [
    {
      "cell_type": "markdown",
      "metadata": {
        "id": "view-in-github",
        "colab_type": "text"
      },
      "source": [
        "<a href=\"https://colab.research.google.com/github/AllanRodrigo/Data_Science_Alura/blob/main/Notebooks/Semana_1.ipynb\" target=\"_parent\"><img src=\"https://colab.research.google.com/assets/colab-badge.svg\" alt=\"Open In Colab\"/></a>"
      ]
    },
    {
      "cell_type": "markdown",
      "source": [
        "# **Instalando Dependências para rodar no Colab**"
      ],
      "metadata": {
        "id": "7058M8H6qnJQ"
      }
    },
    {
      "cell_type": "code",
      "execution_count": 2,
      "metadata": {
        "id": "-7NJYawNqdrC"
      },
      "outputs": [],
      "source": [
        "# instalar as dependências\n",
        "!apt-get update -qq\n",
        "!apt-get install openjdk-8-jdk-headless -qq > /dev/null\n",
        "!wget -q https://archive.apache.org/dist/spark/spark-3.1.2/spark-3.1.2-bin-hadoop2.7.tgz\n",
        "!tar xf spark-3.1.2-bin-hadoop2.7.tgz"
      ]
    },
    {
      "cell_type": "code",
      "source": [
        "!pip install -q findspark"
      ],
      "metadata": {
        "id": "WxklrLhIiFpO"
      },
      "execution_count": 3,
      "outputs": []
    },
    {
      "cell_type": "code",
      "source": [
        "import os\n",
        "os.environ[\"JAVA_HOME\"] = \"/usr/lib/jvm/java-8-openjdk-amd64\"\n",
        "os.environ[\"SPARK_HOME\"] = \"/content/spark-3.1.2-bin-hadoop2.7\""
      ],
      "metadata": {
        "id": "8KjEqSxgqjvJ"
      },
      "execution_count": 4,
      "outputs": []
    },
    {
      "cell_type": "code",
      "source": [
        "import findspark\n",
        "findspark.init()"
      ],
      "metadata": {
        "id": "rVqKIJMCqkdl"
      },
      "execution_count": 5,
      "outputs": []
    },
    {
      "cell_type": "markdown",
      "source": [
        "# **Configuração do Spark IU**"
      ],
      "metadata": {
        "id": "r68uvjOeq5Al"
      }
    },
    {
      "cell_type": "code",
      "source": [
        "from pyspark.sql import SparkSession\n",
        "\n",
        "spark = SparkSession.builder \\\n",
        "    .master('local[*]') \\\n",
        "    .appName(\"Iniciando com Spark\") \\\n",
        "    .config('spark.ui.port', '4050') \\\n",
        "    .getOrCreate()"
      ],
      "metadata": {
        "id": "67oF-O0Kq76G"
      },
      "execution_count": 6,
      "outputs": []
    },
    {
      "cell_type": "code",
      "source": [
        "!wget -q https://bin.equinox.io/c/4VmDzA7iaHb/ngrok-stable-linux-amd64.zip\n",
        "!unzip ngrok-stable-linux-amd64.zip"
      ],
      "metadata": {
        "colab": {
          "base_uri": "https://localhost:8080/"
        },
        "id": "Nzi9nLpHq94B",
        "outputId": "afd4e48d-9211-4573-e884-89195f3d0982"
      },
      "execution_count": 7,
      "outputs": [
        {
          "output_type": "stream",
          "name": "stdout",
          "text": [
            "Archive:  ngrok-stable-linux-amd64.zip\n",
            "  inflating: ngrok                   \n"
          ]
        }
      ]
    },
    {
      "cell_type": "code",
      "source": [
        "get_ipython().system_raw('./ngrok authtoken ')\n",
        "get_ipython().system_raw('./ngrok http 4050 &')"
      ],
      "metadata": {
        "id": "vwyjIxk5q_9y"
      },
      "execution_count": 8,
      "outputs": []
    },
    {
      "cell_type": "code",
      "source": [
        "!curl -s http://localhost:4040/api/tunnels"
      ],
      "metadata": {
        "colab": {
          "base_uri": "https://localhost:8080/"
        },
        "id": "C8n4VwBcrDx2",
        "outputId": "7351c412-e832-487a-df23-8e7e6769273e"
      },
      "execution_count": 9,
      "outputs": [
        {
          "output_type": "stream",
          "name": "stdout",
          "text": [
            "{\"tunnels\":[{\"name\":\"command_line (http)\",\"uri\":\"/api/tunnels/command_line%20%28http%29\",\"public_url\":\"http://9d4c-35-245-57-22.ngrok.io\",\"proto\":\"http\",\"config\":{\"addr\":\"http://localhost:4050\",\"inspect\":true},\"metrics\":{\"conns\":{\"count\":0,\"gauge\":0,\"rate1\":0,\"rate5\":0,\"rate15\":0,\"p50\":0,\"p90\":0,\"p95\":0,\"p99\":0},\"http\":{\"count\":0,\"rate1\":0,\"rate5\":0,\"rate15\":0,\"p50\":0,\"p90\":0,\"p95\":0,\"p99\":0}}},{\"name\":\"command_line\",\"uri\":\"/api/tunnels/command_line\",\"public_url\":\"https://9d4c-35-245-57-22.ngrok.io\",\"proto\":\"https\",\"config\":{\"addr\":\"http://localhost:4050\",\"inspect\":true},\"metrics\":{\"conns\":{\"count\":0,\"gauge\":0,\"rate1\":0,\"rate5\":0,\"rate15\":0,\"p50\":0,\"p90\":0,\"p95\":0,\"p99\":0},\"http\":{\"count\":0,\"rate1\":0,\"rate5\":0,\"rate15\":0,\"p50\":0,\"p90\":0,\"p95\":0,\"p99\":0}}}],\"uri\":\"/api/tunnels\"}\n"
          ]
        }
      ]
    },
    {
      "cell_type": "code",
      "source": [
        "spark"
      ],
      "metadata": {
        "colab": {
          "base_uri": "https://localhost:8080/",
          "height": 219
        },
        "id": "2iGTwn_zrFsX",
        "outputId": "64ef6006-ca99-4553-9166-39691ba023b9"
      },
      "execution_count": 10,
      "outputs": [
        {
          "output_type": "execute_result",
          "data": {
            "text/plain": [
              "<pyspark.sql.session.SparkSession at 0x7f14a93c9350>"
            ],
            "text/html": [
              "\n",
              "            <div>\n",
              "                <p><b>SparkSession - in-memory</b></p>\n",
              "                \n",
              "        <div>\n",
              "            <p><b>SparkContext</b></p>\n",
              "\n",
              "            <p><a href=\"http://0d1d90bce972:4050\">Spark UI</a></p>\n",
              "\n",
              "            <dl>\n",
              "              <dt>Version</dt>\n",
              "                <dd><code>v3.1.2</code></dd>\n",
              "              <dt>Master</dt>\n",
              "                <dd><code>local[*]</code></dd>\n",
              "              <dt>AppName</dt>\n",
              "                <dd><code>Iniciando com Spark</code></dd>\n",
              "            </dl>\n",
              "        </div>\n",
              "        \n",
              "            </div>\n",
              "        "
            ]
          },
          "metadata": {},
          "execution_count": 10
        }
      ]
    },
    {
      "cell_type": "markdown",
      "source": [
        "# **Montando os dados de origem**"
      ],
      "metadata": {
        "id": "c4geNAhsgOSx"
      }
    },
    {
      "cell_type": "code",
      "source": [
        "from google.colab import drive\n",
        "drive.mount('/content/drive')"
      ],
      "metadata": {
        "id": "ijjRa1JNgMxm",
        "colab": {
          "base_uri": "https://localhost:8080/"
        },
        "outputId": "3edeb77d-cf09-4237-8a63-29a7c0fc266e"
      },
      "execution_count": 11,
      "outputs": [
        {
          "output_type": "stream",
          "name": "stdout",
          "text": [
            "Drive already mounted at /content/drive; to attempt to forcibly remount, call drive.mount(\"/content/drive\", force_remount=True).\n"
          ]
        }
      ]
    },
    {
      "cell_type": "code",
      "source": [
        "import zipfile\n",
        "\n",
        "zipfile.ZipFile('/content/drive/MyDrive/curso-spark/semana-1.zip', 'r').extractall('/content/drive/MyDrive/curso-spark/semana_1')"
      ],
      "metadata": {
        "id": "E00AXrpmmtCr"
      },
      "execution_count": 12,
      "outputs": []
    },
    {
      "cell_type": "code",
      "source": [
        "path = '/content/drive/MyDrive/curso-spark/semana_1'\n",
        "casas = spark.read.json(path)"
      ],
      "metadata": {
        "id": "aX5KNN2Rnl38"
      },
      "execution_count": 13,
      "outputs": []
    },
    {
      "cell_type": "markdown",
      "source": [
        "Analise a quantidade de linhas e colunas;"
      ],
      "metadata": {
        "id": "pw9FsyEbp2bD"
      }
    },
    {
      "cell_type": "code",
      "source": [
        "len(casas.columns)"
      ],
      "metadata": {
        "colab": {
          "base_uri": "https://localhost:8080/"
        },
        "id": "nZtX2XLppq18",
        "outputId": "abab3471-f53a-4533-c2c1-585b08e3c4a7"
      },
      "execution_count": 14,
      "outputs": [
        {
          "output_type": "execute_result",
          "data": {
            "text/plain": [
              "3"
            ]
          },
          "metadata": {},
          "execution_count": 14
        }
      ]
    },
    {
      "cell_type": "code",
      "source": [
        "casas.count()"
      ],
      "metadata": {
        "colab": {
          "base_uri": "https://localhost:8080/"
        },
        "id": "cXGfBvOLpEKD",
        "outputId": "9c3868ce-74bb-4b14-f87f-e9afa3385fc9"
      },
      "execution_count": 15,
      "outputs": [
        {
          "output_type": "execute_result",
          "data": {
            "text/plain": [
              "89083"
            ]
          },
          "metadata": {},
          "execution_count": 15
        }
      ]
    },
    {
      "cell_type": "markdown",
      "source": [
        "Avalie a estrutura da base de dados;"
      ],
      "metadata": {
        "id": "VGjXXfwWp7Cy"
      }
    },
    {
      "cell_type": "code",
      "source": [
        "casas.printSchema()"
      ],
      "metadata": {
        "colab": {
          "base_uri": "https://localhost:8080/"
        },
        "id": "9PBvBk6ZoEWI",
        "outputId": "3ad91832-736c-4f51-c59f-5f1148dc74a0"
      },
      "execution_count": 16,
      "outputs": [
        {
          "output_type": "stream",
          "name": "stdout",
          "text": [
            "root\n",
            " |-- anuncio: struct (nullable = true)\n",
            " |    |-- andar: long (nullable = true)\n",
            " |    |-- area_total: array (nullable = true)\n",
            " |    |    |-- element: string (containsNull = true)\n",
            " |    |-- area_util: array (nullable = true)\n",
            " |    |    |-- element: string (containsNull = true)\n",
            " |    |-- banheiros: array (nullable = true)\n",
            " |    |    |-- element: long (containsNull = true)\n",
            " |    |-- caracteristicas: array (nullable = true)\n",
            " |    |    |-- element: string (containsNull = true)\n",
            " |    |-- endereco: struct (nullable = true)\n",
            " |    |    |-- bairro: string (nullable = true)\n",
            " |    |    |-- cep: string (nullable = true)\n",
            " |    |    |-- cidade: string (nullable = true)\n",
            " |    |    |-- estado: string (nullable = true)\n",
            " |    |    |-- latitude: double (nullable = true)\n",
            " |    |    |-- longitude: double (nullable = true)\n",
            " |    |    |-- pais: string (nullable = true)\n",
            " |    |    |-- rua: string (nullable = true)\n",
            " |    |    |-- zona: string (nullable = true)\n",
            " |    |-- id: string (nullable = true)\n",
            " |    |-- quartos: array (nullable = true)\n",
            " |    |    |-- element: long (containsNull = true)\n",
            " |    |-- suites: array (nullable = true)\n",
            " |    |    |-- element: long (containsNull = true)\n",
            " |    |-- tipo_anuncio: string (nullable = true)\n",
            " |    |-- tipo_unidade: string (nullable = true)\n",
            " |    |-- tipo_uso: string (nullable = true)\n",
            " |    |-- vaga: array (nullable = true)\n",
            " |    |    |-- element: long (containsNull = true)\n",
            " |    |-- valores: array (nullable = true)\n",
            " |    |    |-- element: struct (containsNull = true)\n",
            " |    |    |    |-- condominio: string (nullable = true)\n",
            " |    |    |    |-- iptu: string (nullable = true)\n",
            " |    |    |    |-- tipo: string (nullable = true)\n",
            " |    |    |    |-- valor: string (nullable = true)\n",
            " |-- imagens: array (nullable = true)\n",
            " |    |-- element: struct (containsNull = true)\n",
            " |    |    |-- id: string (nullable = true)\n",
            " |    |    |-- url: string (nullable = true)\n",
            " |-- usuario: struct (nullable = true)\n",
            " |    |-- id: string (nullable = true)\n",
            " |    |-- nome: string (nullable = true)\n",
            "\n"
          ]
        }
      ]
    },
    {
      "cell_type": "markdown",
      "source": [
        "Transformar cada campo da coluna \"anuncio\" em uma coluna separada"
      ],
      "metadata": {
        "id": "AWRR8FBqiIiJ"
      }
    },
    {
      "cell_type": "code",
      "source": [
        "from pyspark.sql.types import DoubleType, StringType, IntegerType\n",
        "from pyspark.sql import functions as f"
      ],
      "metadata": {
        "id": "chX0Fh_Uq43w"
      },
      "execution_count": 37,
      "outputs": []
    },
    {
      "cell_type": "code",
      "source": [
        "anuncios = casas.select(\"anuncio.*\")"
      ],
      "metadata": {
        "id": "7OJrVqqLsmpT"
      },
      "execution_count": 18,
      "outputs": []
    },
    {
      "cell_type": "code",
      "source": [
        "anuncios.printSchema()"
      ],
      "metadata": {
        "colab": {
          "base_uri": "https://localhost:8080/"
        },
        "id": "R0KYJ3eBt8QL",
        "outputId": "f0a66f12-516f-4b87-8370-92bbb0b5ac2e"
      },
      "execution_count": 19,
      "outputs": [
        {
          "output_type": "stream",
          "name": "stdout",
          "text": [
            "root\n",
            " |-- andar: long (nullable = true)\n",
            " |-- area_total: array (nullable = true)\n",
            " |    |-- element: string (containsNull = true)\n",
            " |-- area_util: array (nullable = true)\n",
            " |    |-- element: string (containsNull = true)\n",
            " |-- banheiros: array (nullable = true)\n",
            " |    |-- element: long (containsNull = true)\n",
            " |-- caracteristicas: array (nullable = true)\n",
            " |    |-- element: string (containsNull = true)\n",
            " |-- endereco: struct (nullable = true)\n",
            " |    |-- bairro: string (nullable = true)\n",
            " |    |-- cep: string (nullable = true)\n",
            " |    |-- cidade: string (nullable = true)\n",
            " |    |-- estado: string (nullable = true)\n",
            " |    |-- latitude: double (nullable = true)\n",
            " |    |-- longitude: double (nullable = true)\n",
            " |    |-- pais: string (nullable = true)\n",
            " |    |-- rua: string (nullable = true)\n",
            " |    |-- zona: string (nullable = true)\n",
            " |-- id: string (nullable = true)\n",
            " |-- quartos: array (nullable = true)\n",
            " |    |-- element: long (containsNull = true)\n",
            " |-- suites: array (nullable = true)\n",
            " |    |-- element: long (containsNull = true)\n",
            " |-- tipo_anuncio: string (nullable = true)\n",
            " |-- tipo_unidade: string (nullable = true)\n",
            " |-- tipo_uso: string (nullable = true)\n",
            " |-- vaga: array (nullable = true)\n",
            " |    |-- element: long (containsNull = true)\n",
            " |-- valores: array (nullable = true)\n",
            " |    |-- element: struct (containsNull = true)\n",
            " |    |    |-- condominio: string (nullable = true)\n",
            " |    |    |-- iptu: string (nullable = true)\n",
            " |    |    |-- tipo: string (nullable = true)\n",
            " |    |    |-- valor: string (nullable = true)\n",
            "\n"
          ]
        }
      ]
    },
    {
      "cell_type": "markdown",
      "source": [
        "Filtrar a base de dados"
      ],
      "metadata": {
        "id": "MSTOURdgqxyH"
      }
    },
    {
      "cell_type": "code",
      "source": [
        "anuncios.select('id', 'tipo_uso')\\\n",
        "        .groupBy('tipo_uso')\\\n",
        "        .agg(\n",
        "            f.count(\"id\").alias(\"frequencia\")\n",
        "        )\\\n",
        "        .orderBy('tipo_uso', ascending=True)\\\n",
        "        .show()"
      ],
      "metadata": {
        "colab": {
          "base_uri": "https://localhost:8080/"
        },
        "id": "EIRJ0WxJmumS",
        "outputId": "ff3568f8-3e26-4b6b-b2d0-b57ea09b4e88"
      },
      "execution_count": 31,
      "outputs": [
        {
          "output_type": "stream",
          "name": "stdout",
          "text": [
            "+-----------+----------+\n",
            "|   tipo_uso|frequencia|\n",
            "+-----------+----------+\n",
            "|  Comercial|      4542|\n",
            "|Residencial|     84541|\n",
            "+-----------+----------+\n",
            "\n"
          ]
        }
      ]
    },
    {
      "cell_type": "code",
      "source": [
        "anuncios.select('id', 'tipo_unidade')\\\n",
        "        .groupBy('tipo_unidade')\\\n",
        "        .agg(\n",
        "            f.count(\"id\").alias(\"frequencia\")\n",
        "        )\\\n",
        "        .orderBy('tipo_unidade', ascending=True)\\\n",
        "        .show()"
      ],
      "metadata": {
        "colab": {
          "base_uri": "https://localhost:8080/"
        },
        "id": "m9Kiv8KbnZPc",
        "outputId": "c779ceae-f0c3-4786-afb7-f1907b67be6b"
      },
      "execution_count": 32,
      "outputs": [
        {
          "output_type": "stream",
          "name": "stdout",
          "text": [
            "+------------+----------+\n",
            "|tipo_unidade|frequencia|\n",
            "+------------+----------+\n",
            "| Apartamento|     66801|\n",
            "|        Casa|     10319|\n",
            "|      Outros|     11963|\n",
            "+------------+----------+\n",
            "\n"
          ]
        }
      ]
    },
    {
      "cell_type": "code",
      "source": [
        "anuncios.select('id', 'tipo_anuncio')\\\n",
        "        .groupBy('tipo_anuncio')\\\n",
        "        .agg(\n",
        "            f.count(\"id\").alias(\"frequencia\")\n",
        "        )\\\n",
        "        .orderBy('tipo_anuncio', ascending=True)\\\n",
        "        .show()"
      ],
      "metadata": {
        "colab": {
          "base_uri": "https://localhost:8080/"
        },
        "id": "7TYLlnUhnkV4",
        "outputId": "208151e4-e490-4d81-fa6e-f7a54fe49225"
      },
      "execution_count": 33,
      "outputs": [
        {
          "output_type": "stream",
          "name": "stdout",
          "text": [
            "+------------+----------+\n",
            "|tipo_anuncio|frequencia|\n",
            "+------------+----------+\n",
            "|  Lançamento|       256|\n",
            "|       Usado|     88827|\n",
            "+------------+----------+\n",
            "\n"
          ]
        }
      ]
    },
    {
      "cell_type": "code",
      "source": [
        "anuncios.where(anuncios.tipo_uso == 'Residencial')\\\n",
        "        .where(anuncios.tipo_unidade == 'Apartamento')\\\n",
        "        .where(anuncios.tipo_anuncio == 'Usado')\\\n",
        "        .show(5, False)"
      ],
      "metadata": {
        "colab": {
          "base_uri": "https://localhost:8080/"
        },
        "id": "f27hzQW8kwoj",
        "outputId": "4665f3dd-35d1-45e4-fc98-9bc840bced77"
      },
      "execution_count": 30,
      "outputs": [
        {
          "output_type": "stream",
          "name": "stdout",
          "text": [
            "+-----+----------+---------+---------+-------------------------------------------------------------------------------------------------------------------------------+-----------------------------------------------------------------------------------------------------------------------+------------------------------------+-------+------+------------+------------+-----------+----+---------------------------+\n",
            "|andar|area_total|area_util|banheiros|caracteristicas                                                                                                                |endereco                                                                                                               |id                                  |quartos|suites|tipo_anuncio|tipo_unidade|tipo_uso   |vaga|valores                    |\n",
            "+-----+----------+---------+---------+-------------------------------------------------------------------------------------------------------------------------------+-----------------------------------------------------------------------------------------------------------------------+------------------------------------+-------+------+------------+------------+-----------+----+---------------------------+\n",
            "|3    |[43]      |[43]     |[1]      |[Academia, Churrasqueira, Playground, Salão de festas, Condomínio fechado, Portão eletrônico, Portaria 24h, Animais permitidos]|{Paciência, 23585430, Rio de Janeiro, Rio de Janeiro, -22.919851, -43.634034, BR, Estrada de Santa Eugênia, Zona Oeste}|d2e3a3aa-09b5-45a0-9dcd-918847cd3ca3|[2]    |[]    |Usado       |Apartamento |Residencial|[1] |[{245, null, Venda, 15000}]|\n",
            "|2    |[42]      |[42]     |[1]      |[Churrasqueira, Playground, Salão de festas, Condomínio fechado, Portão eletrônico, Portaria 24h, Animais permitidos]          |{Paciência, 23585430, Rio de Janeiro, Rio de Janeiro, -22.928108, -43.635375, BR, Estrada de Santa Eugênia, Zona Oeste}|085bab2c-87ad-452a-bd0f-8b1451509f84|[2]    |[]    |Usado       |Apartamento |Residencial|[1] |[{0, 0, Venda, 15000}]     |\n",
            "|1    |[41]      |[41]     |[1]      |[Portaria 24h, Condomínio fechado, Playground, Salão de festas, Churrasqueira, Portão eletrônico]                              |{Guaratiba, 23036060, Rio de Janeiro, Rio de Janeiro, -22.948756, -43.582824, BR, Estrada Cabuçu de Baixo, Zona Oeste} |18d22cbe-1b86-4764-8def-70c615f15a61|[2]    |[]    |Usado       |Apartamento |Residencial|[1] |[{0, 0, Venda, 20000}]     |\n",
            "|3    |[43]      |[43]     |[1]      |[Churrasqueira, Piscina, Playground, Salão de festas, Condomínio fechado, Portão eletrônico, Portaria 24h, Animais permitidos] |{Cosmos, 23066271, Rio de Janeiro, Rio de Janeiro, -22.888194, -43.629602, BR, Estrada da Paciência, Zona Oeste}       |bed8a354-9317-4426-b27e-1c798f864271|[2]    |[]    |Usado       |Apartamento |Residencial|[0] |[{285, null, Venda, 20000}]|\n",
            "|2    |[43]      |[43]     |[1]      |[Academia, Churrasqueira, Playground, Salão de festas, Condomínio fechado, Portão eletrônico, Portaria 24h, Animais permitidos]|{Guaratiba, 23036060, Rio de Janeiro, Rio de Janeiro, -22.948291, -43.582205, BR, Estrada Cabuçu de Baixo, Zona Oeste} |12a13315-d67f-48f0-9497-017b83252781|[2]    |[]    |Usado       |Apartamento |Residencial|[1] |[{245, null, Venda, 15000}]|\n",
            "+-----+----------+---------+---------+-------------------------------------------------------------------------------------------------------------------------------+-----------------------------------------------------------------------------------------------------------------------+------------------------------------+-------+------+------------+------------+-----------+----+---------------------------+\n",
            "only showing top 5 rows\n",
            "\n"
          ]
        }
      ]
    },
    {
      "cell_type": "markdown",
      "source": [
        "Transformar as colunas dos cômodos dos imóveis de listas para inteiros"
      ],
      "metadata": {
        "id": "09jEZHg-q03u"
      }
    },
    {
      "cell_type": "code",
      "source": [
        "anuncios2 = anuncios.withColumn('quartos', anuncios['quartos'][0].cast(IntegerType()))\\\n",
        "                   .withColumn('suites', anuncios['suites'][0].cast(IntegerType()))\\\n",
        "                   .withColumn('banheiros', anuncios['banheiros'][0].cast(IntegerType()))\\\n",
        "                   .withColumn('vaga', anuncios['vaga'][0].cast(IntegerType()))\\\n",
        "                   .withColumn('area_total', anuncios['area_total'][0].cast(IntegerType()))\\\n",
        "                   .withColumn('area_util', anuncios['area_util'][0].cast(IntegerType()))\n",
        "\n",
        "anuncios2.printSchema()"
      ],
      "metadata": {
        "colab": {
          "base_uri": "https://localhost:8080/"
        },
        "id": "epdIEgQrq5RT",
        "outputId": "d1caabec-0c6c-4a1d-e505-1e74a81e814d"
      },
      "execution_count": 73,
      "outputs": [
        {
          "output_type": "stream",
          "name": "stdout",
          "text": [
            "root\n",
            " |-- andar: long (nullable = true)\n",
            " |-- area_total: integer (nullable = true)\n",
            " |-- area_util: integer (nullable = true)\n",
            " |-- banheiros: integer (nullable = true)\n",
            " |-- caracteristicas: array (nullable = true)\n",
            " |    |-- element: string (containsNull = true)\n",
            " |-- endereco: struct (nullable = true)\n",
            " |    |-- bairro: string (nullable = true)\n",
            " |    |-- cep: string (nullable = true)\n",
            " |    |-- cidade: string (nullable = true)\n",
            " |    |-- estado: string (nullable = true)\n",
            " |    |-- latitude: double (nullable = true)\n",
            " |    |-- longitude: double (nullable = true)\n",
            " |    |-- pais: string (nullable = true)\n",
            " |    |-- rua: string (nullable = true)\n",
            " |    |-- zona: string (nullable = true)\n",
            " |-- id: string (nullable = true)\n",
            " |-- quartos: integer (nullable = true)\n",
            " |-- suites: integer (nullable = true)\n",
            " |-- tipo_anuncio: string (nullable = true)\n",
            " |-- tipo_unidade: string (nullable = true)\n",
            " |-- tipo_uso: string (nullable = true)\n",
            " |-- vaga: integer (nullable = true)\n",
            " |-- valores: array (nullable = true)\n",
            " |    |-- element: struct (containsNull = true)\n",
            " |    |    |-- condominio: string (nullable = true)\n",
            " |    |    |-- iptu: string (nullable = true)\n",
            " |    |    |-- tipo: string (nullable = true)\n",
            " |    |    |-- valor: string (nullable = true)\n",
            "\n"
          ]
        }
      ]
    },
    {
      "cell_type": "markdown",
      "source": [
        "Tratamento de informações sobre localização"
      ],
      "metadata": {
        "id": "itQLVH-Iv6zO"
      }
    },
    {
      "cell_type": "code",
      "source": [
        "anuncios2 = anuncios2.select(\"andar\", \"area_total\", \"area_util\", \"banheiros\", \"caracteristicas\", \\\n",
        "                             \"endereco.bairro\", \"endereco.zona\", \"id\", \"quartos\", \"suites\", \\\n",
        "                             \"tipo_anuncio\", \"tipo_unidade\", \"tipo_uso\", \"vaga\", \"valores\")\n",
        "\n",
        "anuncios2.printSchema()"
      ],
      "metadata": {
        "colab": {
          "base_uri": "https://localhost:8080/"
        },
        "id": "8uECcMZRv8GZ",
        "outputId": "e735f24d-e5c8-4404-8a5d-6049783415fd"
      },
      "execution_count": 74,
      "outputs": [
        {
          "output_type": "stream",
          "name": "stdout",
          "text": [
            "root\n",
            " |-- andar: long (nullable = true)\n",
            " |-- area_total: integer (nullable = true)\n",
            " |-- area_util: integer (nullable = true)\n",
            " |-- banheiros: integer (nullable = true)\n",
            " |-- caracteristicas: array (nullable = true)\n",
            " |    |-- element: string (containsNull = true)\n",
            " |-- bairro: string (nullable = true)\n",
            " |-- zona: string (nullable = true)\n",
            " |-- id: string (nullable = true)\n",
            " |-- quartos: integer (nullable = true)\n",
            " |-- suites: integer (nullable = true)\n",
            " |-- tipo_anuncio: string (nullable = true)\n",
            " |-- tipo_unidade: string (nullable = true)\n",
            " |-- tipo_uso: string (nullable = true)\n",
            " |-- vaga: integer (nullable = true)\n",
            " |-- valores: array (nullable = true)\n",
            " |    |-- element: struct (containsNull = true)\n",
            " |    |    |-- condominio: string (nullable = true)\n",
            " |    |    |-- iptu: string (nullable = true)\n",
            " |    |    |-- tipo: string (nullable = true)\n",
            " |    |    |-- valor: string (nullable = true)\n",
            "\n"
          ]
        }
      ]
    },
    {
      "cell_type": "markdown",
      "source": [
        "Transformar cada campo da coluna \"valores\" em uma coluna separada\n",
        "\n",
        "```\n",
        "# Aproveite para converter a coluna Caracteristicas que não encontrei o item de tratamento para a mesma, porém precisamos tratar se quiser no futuro salvar em CSV\n",
        "```"
      ],
      "metadata": {
        "id": "mIEywYaN0dLP"
      }
    },
    {
      "cell_type": "code",
      "source": [
        "anuncios2 = anuncios2.withColumn('condominio', anuncios2['valores'][0]['condominio'])\\\n",
        "                     .withColumn('iptu', anuncios2['valores'][0]['iptu'])\\\n",
        "                     .withColumn('tipo', anuncios2['valores'][0]['tipo'])\\\n",
        "                     .withColumn('valor', anuncios2['valores'][0]['valor'])\\\n",
        "                     .withColumn('caracteristicas', anuncios2['caracteristicas'][0])\n",
        "\n",
        "anuncios2 = anuncios2.drop(\"valores\")\n",
        "\n",
        "anuncios2.printSchema()"
      ],
      "metadata": {
        "colab": {
          "base_uri": "https://localhost:8080/"
        },
        "id": "NJVxpkWY0e2t",
        "outputId": "bc684394-0bc9-4baa-b98f-4f61ebb004ba"
      },
      "execution_count": 75,
      "outputs": [
        {
          "output_type": "stream",
          "name": "stdout",
          "text": [
            "root\n",
            " |-- andar: long (nullable = true)\n",
            " |-- area_total: integer (nullable = true)\n",
            " |-- area_util: integer (nullable = true)\n",
            " |-- banheiros: integer (nullable = true)\n",
            " |-- caracteristicas: string (nullable = true)\n",
            " |-- bairro: string (nullable = true)\n",
            " |-- zona: string (nullable = true)\n",
            " |-- id: string (nullable = true)\n",
            " |-- quartos: integer (nullable = true)\n",
            " |-- suites: integer (nullable = true)\n",
            " |-- tipo_anuncio: string (nullable = true)\n",
            " |-- tipo_unidade: string (nullable = true)\n",
            " |-- tipo_uso: string (nullable = true)\n",
            " |-- vaga: integer (nullable = true)\n",
            " |-- condominio: string (nullable = true)\n",
            " |-- iptu: string (nullable = true)\n",
            " |-- tipo: string (nullable = true)\n",
            " |-- valor: string (nullable = true)\n",
            "\n"
          ]
        }
      ]
    },
    {
      "cell_type": "code",
      "source": [
        "anuncios2.show(5)"
      ],
      "metadata": {
        "colab": {
          "base_uri": "https://localhost:8080/"
        },
        "id": "96hlkoZm3OB7",
        "outputId": "6448ba8a-2eac-4996-d1c9-849c73421b24"
      },
      "execution_count": 76,
      "outputs": [
        {
          "output_type": "stream",
          "name": "stdout",
          "text": [
            "+-----+----------+---------+---------+-----------------+--------------+------------+--------------------+-------+------+------------+------------+-----------+----+----------+----+-----+-----+\n",
            "|andar|area_total|area_util|banheiros|  caracteristicas|        bairro|        zona|                  id|quartos|suites|tipo_anuncio|tipo_unidade|   tipo_uso|vaga|condominio|iptu| tipo|valor|\n",
            "+-----+----------+---------+---------+-----------------+--------------+------------+--------------------+-------+------+------------+------------+-----------+----+----------+----+-----+-----+\n",
            "|    0|      null|       16|        0|             null|        Centro|Zona Central|47d553e0-79f2-4a4...|      0|     0|       Usado|      Outros|  Comercial|   1|       260| 107|Venda|10000|\n",
            "|    0|      null|       14|        0|             null|        Centro|Zona Central|b6ffbae1-17f6-487...|      0|  null|       Usado|      Outros|  Comercial|   0|       260| 107|Venda|10000|\n",
            "|    0|      1026|     1026|        0|             null|Maria da Graça|  Zona Norte|1fb030a5-9e3e-4a1...|      0|  null|       Usado|      Outros|  Comercial|   0|      null|1613|Venda|10000|\n",
            "|    0|       120|      120|        0|Portão eletrônico|  Campo Grande|  Zona Oeste|ac6cb348-69d6-45a...|      0|  null|       Usado|      Outros|Residencial|null|        80|null|Venda|10000|\n",
            "|    0|         3|        3|        0|             null| São Cristóvão|  Zona Norte|e032b908-ef42-4d4...|      0|  null|       Usado|      Outros|Residencial|null|         0|   0|Venda| 5000|\n",
            "+-----+----------+---------+---------+-----------------+--------------+------------+--------------------+-------+------+------------+------------+-----------+----+----------+----+-----+-----+\n",
            "only showing top 5 rows\n",
            "\n"
          ]
        }
      ]
    },
    {
      "cell_type": "markdown",
      "source": [
        "Tratamento para a coluna de valores"
      ],
      "metadata": {
        "id": "xBbip2M55T_C"
      }
    },
    {
      "cell_type": "code",
      "source": [
        "valores_venda = anuncios.select(f.explode(\"valores\").alias(\"valores\")).select(\"valores.*\").where(\"tipo == 'Venda'\")\n",
        "\n",
        "valores_venda.show(5)"
      ],
      "metadata": {
        "colab": {
          "base_uri": "https://localhost:8080/"
        },
        "id": "IGMJVca25Wnc",
        "outputId": "232acdda-6f81-4092-e81c-59e1c03ac554"
      },
      "execution_count": 77,
      "outputs": [
        {
          "output_type": "stream",
          "name": "stdout",
          "text": [
            "+----------+----+-----+-----+\n",
            "|condominio|iptu| tipo|valor|\n",
            "+----------+----+-----+-----+\n",
            "|       260| 107|Venda|10000|\n",
            "|       260| 107|Venda|10000|\n",
            "|      null|1613|Venda|10000|\n",
            "|        80|null|Venda|10000|\n",
            "|         0|   0|Venda| 5000|\n",
            "+----------+----+-----+-----+\n",
            "only showing top 5 rows\n",
            "\n"
          ]
        }
      ]
    },
    {
      "cell_type": "code",
      "source": [
        "anuncios2 = anuncios2.where(anuncios2.tipo == 'Venda')\n",
        "\n",
        "anuncios2.show(5)"
      ],
      "metadata": {
        "colab": {
          "base_uri": "https://localhost:8080/"
        },
        "id": "DC7E1Nfo7Dqr",
        "outputId": "c1a31818-a829-4ebe-dfcb-f692ca5f6c5c"
      },
      "execution_count": 78,
      "outputs": [
        {
          "output_type": "stream",
          "name": "stdout",
          "text": [
            "+-----+----------+---------+---------+-----------------+--------------+------------+--------------------+-------+------+------------+------------+-----------+----+----------+----+-----+-----+\n",
            "|andar|area_total|area_util|banheiros|  caracteristicas|        bairro|        zona|                  id|quartos|suites|tipo_anuncio|tipo_unidade|   tipo_uso|vaga|condominio|iptu| tipo|valor|\n",
            "+-----+----------+---------+---------+-----------------+--------------+------------+--------------------+-------+------+------------+------------+-----------+----+----------+----+-----+-----+\n",
            "|    0|      null|       16|        0|             null|        Centro|Zona Central|47d553e0-79f2-4a4...|      0|     0|       Usado|      Outros|  Comercial|   1|       260| 107|Venda|10000|\n",
            "|    0|      null|       14|        0|             null|        Centro|Zona Central|b6ffbae1-17f6-487...|      0|  null|       Usado|      Outros|  Comercial|   0|       260| 107|Venda|10000|\n",
            "|    0|      1026|     1026|        0|             null|Maria da Graça|  Zona Norte|1fb030a5-9e3e-4a1...|      0|  null|       Usado|      Outros|  Comercial|   0|      null|1613|Venda|10000|\n",
            "|    0|       120|      120|        0|Portão eletrônico|  Campo Grande|  Zona Oeste|ac6cb348-69d6-45a...|      0|  null|       Usado|      Outros|Residencial|null|        80|null|Venda|10000|\n",
            "|    0|         3|        3|        0|             null| São Cristóvão|  Zona Norte|e032b908-ef42-4d4...|      0|  null|       Usado|      Outros|Residencial|null|         0|   0|Venda| 5000|\n",
            "+-----+----------+---------+---------+-----------------+--------------+------------+--------------------+-------+------+------------+------------+-----------+----+----------+----+-----+-----+\n",
            "only showing top 5 rows\n",
            "\n"
          ]
        }
      ]
    },
    {
      "cell_type": "markdown",
      "source": [
        "Salvar os dados no formato parquet"
      ],
      "metadata": {
        "id": "zt3L0K1C7pTI"
      }
    },
    {
      "cell_type": "code",
      "source": [
        "anuncios2.write.parquet(\n",
        "    path='/content/drive/MyDrive/curso-spark/anuncios/parquet',\n",
        "    mode='overwrite'\n",
        ")\n",
        "\n",
        "teste_leitura = spark.read.parquet(\n",
        "    '/content/drive/MyDrive/curso-spark/anuncios/parquet'\n",
        ")\n",
        "\n",
        "teste_leitura.printSchema()"
      ],
      "metadata": {
        "colab": {
          "base_uri": "https://localhost:8080/"
        },
        "id": "Y4omNw7i7qrP",
        "outputId": "9e2ea8dc-c0c1-435e-bcff-d3e7bc744e54"
      },
      "execution_count": 79,
      "outputs": [
        {
          "output_type": "stream",
          "name": "stdout",
          "text": [
            "root\n",
            " |-- andar: long (nullable = true)\n",
            " |-- area_total: integer (nullable = true)\n",
            " |-- area_util: integer (nullable = true)\n",
            " |-- banheiros: integer (nullable = true)\n",
            " |-- caracteristicas: string (nullable = true)\n",
            " |-- bairro: string (nullable = true)\n",
            " |-- zona: string (nullable = true)\n",
            " |-- id: string (nullable = true)\n",
            " |-- quartos: integer (nullable = true)\n",
            " |-- suites: integer (nullable = true)\n",
            " |-- tipo_anuncio: string (nullable = true)\n",
            " |-- tipo_unidade: string (nullable = true)\n",
            " |-- tipo_uso: string (nullable = true)\n",
            " |-- vaga: integer (nullable = true)\n",
            " |-- condominio: string (nullable = true)\n",
            " |-- iptu: string (nullable = true)\n",
            " |-- tipo: string (nullable = true)\n",
            " |-- valor: string (nullable = true)\n",
            "\n"
          ]
        }
      ]
    },
    {
      "cell_type": "markdown",
      "source": [
        "Salvar o arquivo no formato csv"
      ],
      "metadata": {
        "id": "zxy_EgPX8MUb"
      }
    },
    {
      "cell_type": "code",
      "source": [
        "anuncios2.write.csv(path='/content/drive/MyDrive/curso-spark/anuncios/csv',\n",
        "                    mode='overwrite',\n",
        "                    sep=';',\n",
        "                    header=True)\n",
        "\n",
        "teste_leitura = spark.read.csv(path='/content/drive/MyDrive/curso-spark/anuncios/csv',\n",
        "                    sep=';',\n",
        "                    inferSchema=True,\n",
        "                    header=True)\n",
        "\n",
        "teste_leitura.printSchema()"
      ],
      "metadata": {
        "colab": {
          "base_uri": "https://localhost:8080/"
        },
        "id": "DPTZSHZO8M54",
        "outputId": "bbe22d32-84ba-47ce-a51d-acff98ee79d0"
      },
      "execution_count": 80,
      "outputs": [
        {
          "output_type": "stream",
          "name": "stdout",
          "text": [
            "root\n",
            " |-- andar: integer (nullable = true)\n",
            " |-- area_total: integer (nullable = true)\n",
            " |-- area_util: integer (nullable = true)\n",
            " |-- banheiros: integer (nullable = true)\n",
            " |-- caracteristicas: string (nullable = true)\n",
            " |-- bairro: string (nullable = true)\n",
            " |-- zona: string (nullable = true)\n",
            " |-- id: string (nullable = true)\n",
            " |-- quartos: integer (nullable = true)\n",
            " |-- suites: integer (nullable = true)\n",
            " |-- tipo_anuncio: string (nullable = true)\n",
            " |-- tipo_unidade: string (nullable = true)\n",
            " |-- tipo_uso: string (nullable = true)\n",
            " |-- vaga: integer (nullable = true)\n",
            " |-- condominio: integer (nullable = true)\n",
            " |-- iptu: integer (nullable = true)\n",
            " |-- tipo: string (nullable = true)\n",
            " |-- valor: integer (nullable = true)\n",
            "\n"
          ]
        }
      ]
    },
    {
      "cell_type": "markdown",
      "source": [
        "Comparar o desempenho da leitura"
      ],
      "metadata": {
        "id": "DUt4cmi2Mmr-"
      }
    },
    {
      "cell_type": "code",
      "source": [
        "%%time\n",
        "\n",
        "spark.read.parquet(\n",
        "    '/content/drive/MyDrive/curso-spark/anuncios/parquet'\n",
        ")"
      ],
      "metadata": {
        "colab": {
          "base_uri": "https://localhost:8080/"
        },
        "id": "DYKPGFoXMoSN",
        "outputId": "d1043e05-4d3d-4bfe-9a32-58ab2ea0fd30"
      },
      "execution_count": 81,
      "outputs": [
        {
          "output_type": "stream",
          "name": "stdout",
          "text": [
            "CPU times: user 1.78 ms, sys: 689 µs, total: 2.47 ms\n",
            "Wall time: 98.1 ms\n"
          ]
        },
        {
          "output_type": "execute_result",
          "data": {
            "text/plain": [
              "DataFrame[andar: bigint, area_total: int, area_util: int, banheiros: int, caracteristicas: string, bairro: string, zona: string, id: string, quartos: int, suites: int, tipo_anuncio: string, tipo_unidade: string, tipo_uso: string, vaga: int, condominio: string, iptu: string, tipo: string, valor: string]"
            ]
          },
          "metadata": {},
          "execution_count": 81
        }
      ]
    },
    {
      "cell_type": "code",
      "source": [
        "%%time\n",
        "\n",
        "spark.read.csv(path='/content/drive/MyDrive/curso-spark/anuncios/csv',\n",
        "                    sep=';',\n",
        "                    inferSchema=True,\n",
        "                    header=True)"
      ],
      "metadata": {
        "colab": {
          "base_uri": "https://localhost:8080/"
        },
        "id": "oDxg0YqpMvu6",
        "outputId": "9f4ce3cc-5501-4e36-a35e-25af2b1d3a60"
      },
      "execution_count": 82,
      "outputs": [
        {
          "output_type": "stream",
          "name": "stdout",
          "text": [
            "CPU times: user 9.23 ms, sys: 0 ns, total: 9.23 ms\n",
            "Wall time: 677 ms\n"
          ]
        },
        {
          "output_type": "execute_result",
          "data": {
            "text/plain": [
              "DataFrame[andar: int, area_total: int, area_util: int, banheiros: int, caracteristicas: string, bairro: string, zona: string, id: string, quartos: int, suites: int, tipo_anuncio: string, tipo_unidade: string, tipo_uso: string, vaga: int, condominio: int, iptu: int, tipo: string, valor: int]"
            ]
          },
          "metadata": {},
          "execution_count": 82
        }
      ]
    }
  ]
}